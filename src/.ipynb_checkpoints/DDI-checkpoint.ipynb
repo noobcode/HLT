{
 "cells": [
  {
   "cell_type": "code",
   "execution_count": null,
   "metadata": {
    "collapsed": true
   },
   "outputs": [],
   "source": [
    "import numpy as np\n",
    "import pandas as pd\n",
    "\n",
    "from paths import *"
   ]
  },
  {
   "cell_type": "markdown",
   "metadata": {},
   "source": [
    "### Loading the preprocessed embeddings"
   ]
  },
  {
   "cell_type": "code",
   "execution_count": null,
   "metadata": {},
   "outputs": [],
   "source": [
    "X_train = np.load('../XY/STEMPOS_20/X_train.npy')\n",
    "Y_train = np.load('../XY/STEMPOS_20/Y_train.npy')\n",
    "X_test = np.load('../XY/STEMPOS_20/X_test2.npy')\n",
    "Y_test = np.load('../XY/STEMPOS_20/Y_test2.npy')\n",
    "\n",
    "print(X_train.shape, Y_train.shape)\n",
    "print(X_test.shape, Y_test.shape)"
   ]
  },
  {
   "cell_type": "markdown",
   "metadata": {},
   "source": [
    "### Loading the sentences"
   ]
  },
  {
   "cell_type": "code",
   "execution_count": null,
   "metadata": {},
   "outputs": [],
   "source": [
    "# TRAIN SET\n",
    "sentences_df_train = pd.read_csv(SENTENCE_PATH_train)\n",
    "entities_df_train = pd.read_csv(ENTITY_PATH_train)\n",
    "pairs_df_train = pd.read_csv(PAIR_PATH_train)\n",
    "\n",
    "#TEST2 SET\n",
    "sentences_df_test = pd.read_csv(SENTENCE_PATH_test2)\n",
    "entities_df_test = pd.read_csv(ENTITY_PATH_test2)\n",
    "pairs_df_test = pd.read_csv(PAIR_PATH_test2)\n",
    "\n",
    "pairs_df_train['type'].fillna('null', inplace=True)"
   ]
  },
  {
   "cell_type": "code",
   "execution_count": null,
   "metadata": {},
   "outputs": [],
   "source": [
    "print(\"entities dataframe\")\n",
    "entities_df_train.head()"
   ]
  },
  {
   "cell_type": "code",
   "execution_count": null,
   "metadata": {},
   "outputs": [],
   "source": [
    "print(\"sentences dataframe\")\n",
    "sentences_df_train.head()"
   ]
  },
  {
   "cell_type": "code",
   "execution_count": null,
   "metadata": {},
   "outputs": [],
   "source": [
    "print(\"pairs dataframe\")\n",
    "pairs_df_train.head()"
   ]
  },
  {
   "cell_type": "code",
   "execution_count": null,
   "metadata": {
    "collapsed": true
   },
   "outputs": [],
   "source": [
    "sentences_train = [row['sentenceText'] for index, row in sentences_df_train.iterrows()]\n",
    "sentenceIDs_train = [row['sentenceID'] for index, row in sentences_df_train.iterrows()]\n",
    "\n",
    "#sentences_test = [row['sentenceText'] for index, row in sentences_df_test.iterrows()]\n",
    "#sentences_IDs_test = [row['sentenceID'] for index, row in sentences_df_test.iterrows()]\n"
   ]
  },
  {
   "cell_type": "code",
   "execution_count": null,
   "metadata": {},
   "outputs": [],
   "source": [
    "for index, row in pairs_df_train.iterrows():\n",
    "    #print(row)\n",
    "    sentenceID = row['sentenceID']\n",
    "    sentence = sentences_train[sentenceIDs_train.index(sentenceID)]\n",
    "    entityID1 = row['entityID1']\n",
    "    entityID2 = row['entityID2']\n",
    "    print(sentence)\n",
    "    print(entityID1, entityID2)\n",
    "    "
   ]
  },
  {
   "cell_type": "code",
   "execution_count": null,
   "metadata": {
    "collapsed": true
   },
   "outputs": [],
   "source": []
  }
 ],
 "metadata": {
  "kernelspec": {
   "display_name": "Python 3",
   "language": "python",
   "name": "python3"
  },
  "language_info": {
   "codemirror_mode": {
    "name": "ipython",
    "version": 3
   },
   "file_extension": ".py",
   "mimetype": "text/x-python",
   "name": "python",
   "nbconvert_exporter": "python",
   "pygments_lexer": "ipython3",
   "version": "3.5.2"
  }
 },
 "nbformat": 4,
 "nbformat_minor": 2
}
