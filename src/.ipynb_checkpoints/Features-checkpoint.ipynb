{
 "cells": [
  {
   "cell_type": "code",
   "execution_count": 34,
   "metadata": {},
   "outputs": [],
   "source": [
    "# Gensim\n",
    "import gensim\n",
    "from gensim.models import Word2Vec\n",
    "\n",
    "import os\n",
    "\n",
    "import pandas as pd\n",
    "import numpy as np\n",
    "\n",
    "# custom\n",
    "from analize_text import get_sentenceID\n",
    "from paths import *\n",
    "\n",
    "# nltk\n",
    "import nltk\n",
    "from nltk import word_tokenize\n",
    "from nltk.stem.snowball import EnglishStemmer\n",
    "from nltk import pos_tag, pos_tag_sents\n",
    "\n",
    "from multiprocessing import cpu_count\n",
    "\n",
    "# scikit learn\n",
    "from sklearn.pipeline import FeatureUnion, Pipeline\n",
    "from sklearn.preprocessing import FunctionTransformer, LabelEncoder\n",
    "\n",
    "# keras\n",
    "from keras.utils import np_utils\n",
    "\n",
    "from feature_transformer import *"
   ]
  },
  {
   "cell_type": "code",
   "execution_count": 2,
   "metadata": {
    "collapsed": true
   },
   "outputs": [],
   "source": [
    "# read dataframes of sentences and entities\n",
    "sentences_df_train = pd.read_csv(SENTENCE_PATH_train)\n",
    "entities_df_train = pd.read_csv(ENTITY_PATH_train)\n",
    "\n",
    "sentences_df_test1 = pd.read_csv(SENTENCE_PATH_test1)\n",
    "entities_df_test1 = pd.read_csv(ENTITY_PATH_test1)\n",
    "\n",
    "sentences_df_test2 = pd.read_csv(SENTENCE_PATH_test2)\n",
    "entities_df_test2 = pd.read_csv(ENTITY_PATH_test2)"
   ]
  },
  {
   "cell_type": "code",
   "execution_count": 3,
   "metadata": {
    "collapsed": true
   },
   "outputs": [],
   "source": [
    "# Concatenating training and test data for the word2vec training!\n",
    "sentences_df = pd.concat([sentences_df_train,\n",
    "                          sentences_df_test1,\n",
    "                          sentences_df_test2]).drop_duplicates().reset_index(drop=True)\n",
    "\n",
    "entities_df = pd.concat([entities_df_train,\n",
    "                         entities_df_test1,\n",
    "                         entities_df_test2]).drop_duplicates().reset_index(drop=True)"
   ]
  },
  {
   "cell_type": "code",
   "execution_count": 4,
   "metadata": {},
   "outputs": [
    {
     "name": "stdout",
     "output_type": "stream",
     "text": [
      "Entities dataframe\n"
     ]
    },
    {
     "data": {
      "text/html": [
       "<div>\n",
       "<style scoped>\n",
       "    .dataframe tbody tr th:only-of-type {\n",
       "        vertical-align: middle;\n",
       "    }\n",
       "\n",
       "    .dataframe tbody tr th {\n",
       "        vertical-align: top;\n",
       "    }\n",
       "\n",
       "    .dataframe thead th {\n",
       "        text-align: right;\n",
       "    }\n",
       "</style>\n",
       "<table border=\"1\" class=\"dataframe\">\n",
       "  <thead>\n",
       "    <tr style=\"text-align: right;\">\n",
       "      <th></th>\n",
       "      <th>entityID</th>\n",
       "      <th>name</th>\n",
       "      <th>position</th>\n",
       "      <th>type</th>\n",
       "    </tr>\n",
       "  </thead>\n",
       "  <tbody>\n",
       "    <tr>\n",
       "      <th>0</th>\n",
       "      <td>DDI-DrugBank.d281.s0.e0</td>\n",
       "      <td>Probenecid</td>\n",
       "      <td>0-9</td>\n",
       "      <td>drug</td>\n",
       "    </tr>\n",
       "    <tr>\n",
       "      <th>1</th>\n",
       "      <td>DDI-DrugBank.d281.s0.e1</td>\n",
       "      <td>cephalosporins</td>\n",
       "      <td>51-64</td>\n",
       "      <td>group</td>\n",
       "    </tr>\n",
       "    <tr>\n",
       "      <th>2</th>\n",
       "      <td>DDI-DrugBank.d281.s0.e2</td>\n",
       "      <td>cephalosporin</td>\n",
       "      <td>132-144</td>\n",
       "      <td>group</td>\n",
       "    </tr>\n",
       "    <tr>\n",
       "      <th>3</th>\n",
       "      <td>DDI-DrugBank.d281.s3.e0</td>\n",
       "      <td>cephalosporins</td>\n",
       "      <td>56-69</td>\n",
       "      <td>group</td>\n",
       "    </tr>\n",
       "    <tr>\n",
       "      <th>4</th>\n",
       "      <td>DDI-DrugBank.d384.s0.e0</td>\n",
       "      <td>vitamin D analogues</td>\n",
       "      <td>17-35</td>\n",
       "      <td>group</td>\n",
       "    </tr>\n",
       "  </tbody>\n",
       "</table>\n",
       "</div>"
      ],
      "text/plain": [
       "                  entityID                 name position   type\n",
       "0  DDI-DrugBank.d281.s0.e0           Probenecid      0-9   drug\n",
       "1  DDI-DrugBank.d281.s0.e1       cephalosporins    51-64  group\n",
       "2  DDI-DrugBank.d281.s0.e2        cephalosporin  132-144  group\n",
       "3  DDI-DrugBank.d281.s3.e0       cephalosporins    56-69  group\n",
       "4  DDI-DrugBank.d384.s0.e0  vitamin D analogues    17-35  group"
      ]
     },
     "execution_count": 4,
     "metadata": {},
     "output_type": "execute_result"
    }
   ],
   "source": [
    "print('Entities dataframe')\n",
    "entities_df_train.head()\n",
    "#entities_df.info()"
   ]
  },
  {
   "cell_type": "code",
   "execution_count": 5,
   "metadata": {},
   "outputs": [
    {
     "name": "stdout",
     "output_type": "stream",
     "text": [
      "Sentences dataframe\n",
      "<class 'pandas.core.frame.DataFrame'>\n",
      "RangeIndex: 6832 entries, 0 to 6831\n",
      "Data columns (total 2 columns):\n",
      "sentenceID      6832 non-null object\n",
      "sentenceText    6832 non-null object\n",
      "dtypes: object(2)\n",
      "memory usage: 106.8+ KB\n",
      "<class 'pandas.core.frame.DataFrame'>\n",
      "RangeIndex: 1299 entries, 0 to 1298\n",
      "Data columns (total 2 columns):\n",
      "sentenceID      1299 non-null object\n",
      "sentenceText    1299 non-null object\n",
      "dtypes: object(2)\n",
      "memory usage: 20.4+ KB\n"
     ]
    }
   ],
   "source": [
    "print('Sentences dataframe')\n",
    "sentences_df_train.info()\n",
    "sentences_df_test2.info()"
   ]
  },
  {
   "cell_type": "markdown",
   "metadata": {},
   "source": [
    "### Load label dictionary {sentenceID: [ 'B', 'I', ..., 'O'] }"
   ]
  },
  {
   "cell_type": "code",
   "execution_count": 6,
   "metadata": {
    "collapsed": true
   },
   "outputs": [],
   "source": [
    "label_dict_path = os.path.join(ROOT_DIR, 'Train', 'bio_labels')\n",
    "label_dict = np.load(label_dict_path + '.npy').item()\n",
    "\n",
    "sentenceIDs = label_dict.keys()"
   ]
  },
  {
   "cell_type": "code",
   "execution_count": 7,
   "metadata": {
    "collapsed": true
   },
   "outputs": [],
   "source": [
    "# get sentences containing at least an entity \n",
    "sentences = [sentences_df[sentences_df.sentenceID == sentenceID]['sentenceText'].values[0] \n",
    "             for sentenceID in sentenceIDs]\n",
    "\n",
    "# remove duplicates from sentence list (sentences with e.g. 2 entities appeared twice)\n",
    "sentences = list(set(sentences))"
   ]
  },
  {
   "cell_type": "code",
   "execution_count": 8,
   "metadata": {
    "collapsed": true
   },
   "outputs": [],
   "source": [
    "### WTF ### happens iterating from sentences_df instead of indexing by entities \n",
    "dd = sentences_df['sentenceText']\n",
    "for i, sentence in zip(range(len(dd)), dd.values):\n",
    "    if not isinstance(sentence, str):\n",
    "        print(i, True, sentence)\n",
    "        #break # remove this to see all"
   ]
  },
  {
   "cell_type": "code",
   "execution_count": 9,
   "metadata": {
    "collapsed": true
   },
   "outputs": [],
   "source": [
    "# just check nothing is wrong (it should not print anything)\n",
    "for s in sentences:\n",
    "    if not isinstance(s, str):\n",
    "        print(True)"
   ]
  },
  {
   "cell_type": "markdown",
   "metadata": {},
   "source": [
    "### Tokenize sentences"
   ]
  },
  {
   "cell_type": "code",
   "execution_count": 10,
   "metadata": {},
   "outputs": [
    {
     "data": {
      "text/plain": [
       "['Anticholinesterases',\n",
       " ':',\n",
       " 'Concomitant',\n",
       " 'use',\n",
       " 'of',\n",
       " 'anticholinesterase',\n",
       " 'agents',\n",
       " 'and',\n",
       " 'corticosteroids',\n",
       " 'may',\n",
       " 'produce',\n",
       " 'severe',\n",
       " 'weakness',\n",
       " 'in',\n",
       " 'patients',\n",
       " 'with',\n",
       " 'myasthenia',\n",
       " 'gravis',\n",
       " '.']"
      ]
     },
     "execution_count": 10,
     "metadata": {},
     "output_type": "execute_result"
    }
   ],
   "source": [
    "tokenized_sentences = [word_tokenize(sentence) for sentence in sentences]\n",
    "tokenized_sentences[0]"
   ]
  },
  {
   "cell_type": "code",
   "execution_count": 11,
   "metadata": {},
   "outputs": [
    {
     "name": "stdout",
     "output_type": "stream",
     "text": [
      "stemmed version:\n",
      "\n",
      "['interact', 'between', 'cimetidin', 'and', 'warfarin', 'could', 'be', 'danger']\n",
      "\n",
      "original pos tags:\n",
      "\n",
      "[('interaction', 'NN'), ('between', 'IN'), ('cimetidine', 'NN'), ('and', 'CC'), ('warfarin', 'NN'), ('could', 'MD'), ('be', 'VB'), ('dangerous', 'JJ')]\n",
      "\n",
      "stemmed pos tags:\n",
      "\n",
      "[('interact', 'NN'), ('between', 'IN'), ('cimetidin', 'NN'), ('and', 'CC'), ('warfarin', 'NN'), ('could', 'MD'), ('be', 'VB'), ('danger', 'JJR')]\n"
     ]
    }
   ],
   "source": [
    "### EXAMPLE STEM + POS ####\n",
    "# POS could differ slightly when applied to the stemmed version or not\n",
    "# TODO: try which one performs better\n",
    "stemmer = EnglishStemmer()\n",
    "s = ['interaction', 'between', 'cimetidine', 'and', 'warfarin', 'could', 'be', 'dangerous']\n",
    "\n",
    "print ('stemmed version:\\n')\n",
    "stemmed_s = [stemmer.stem(w) for w in s]\n",
    "print (stemmed_s)\n",
    "\n",
    "print ('\\noriginal pos tags:\\n')\n",
    "print(pos_tag(s))\n",
    "\n",
    "print ('\\nstemmed pos tags:\\n')\n",
    "print(pos_tag(stemmed_s))"
   ]
  },
  {
   "cell_type": "markdown",
   "metadata": {},
   "source": [
    "### POS tag"
   ]
  },
  {
   "cell_type": "code",
   "execution_count": 12,
   "metadata": {},
   "outputs": [
    {
     "data": {
      "text/plain": [
       "['Anticholinesterases_NNS',\n",
       " ':_:',\n",
       " 'Concomitant_NNP',\n",
       " 'use_NN',\n",
       " 'of_IN',\n",
       " 'anticholinesterase_NN',\n",
       " 'agents_NNS',\n",
       " 'and_CC',\n",
       " 'corticosteroids_NNS',\n",
       " 'may_MD',\n",
       " 'produce_VB',\n",
       " 'severe_JJ',\n",
       " 'weakness_NN',\n",
       " 'in_IN',\n",
       " 'patients_NNS',\n",
       " 'with_IN',\n",
       " 'myasthenia_JJ',\n",
       " 'gravis_NN',\n",
       " '._.']"
      ]
     },
     "execution_count": 12,
     "metadata": {},
     "output_type": "execute_result"
    }
   ],
   "source": [
    "tokenized_sentences_pos = pos_tag_sents(tokenized_sentences, tagset=None) # tagset = None, 'universal', 'wsj', 'brown'\n",
    "\n",
    "# concatenate the part of speach to each word (e.g. cat_NN)\n",
    "tokenized_sentences_pos = [ [w + '_' + pos for w, pos in s ] for s in tokenized_sentences_pos]\n",
    "tokenized_sentences_pos[0]"
   ]
  },
  {
   "cell_type": "markdown",
   "metadata": {},
   "source": [
    "### Word2Vec"
   ]
  },
  {
   "cell_type": "code",
   "execution_count": 36,
   "metadata": {},
   "outputs": [
    {
     "name": "stdout",
     "output_type": "stream",
     "text": [
      "latest loss: 0.0\n"
     ]
    }
   ],
   "source": [
    "vector_size = 20\n",
    "model = Word2Vec(tokenized_sentences_pos, size=vector_size, window=5, min_count=1, workers=cpu_count(), compute_loss=True)\n",
    "model.train(sentences, total_examples=len(sentences), epochs=10)\n",
    "print ('latest loss:', model.get_latest_training_loss())"
   ]
  },
  {
   "cell_type": "code",
   "execution_count": 14,
   "metadata": {
    "collapsed": true
   },
   "outputs": [],
   "source": [
    "# save embeddings and delete model\n",
    "model.save(\"../word_vectors\")\n",
    "#model = Word2Vec.load('../word_vectors')\n",
    "word_vectors = model.wv\n",
    "del model"
   ]
  },
  {
   "cell_type": "code",
   "execution_count": 15,
   "metadata": {},
   "outputs": [
    {
     "name": "stdout",
     "output_type": "stream",
     "text": [
      "[-0.10479831 -0.61033344 -0.44563627  0.2693795  -0.15509547  0.29334313\n",
      " -0.47899345 -0.04716818  0.00209791 -0.20859599 -0.14789408  0.6283411\n",
      " -0.5333641   0.2543242  -0.03934008 -0.06368278  0.1590413  -0.15598874\n",
      " -0.17961134  0.1906127 ]\n"
     ]
    }
   ],
   "source": [
    "print(word_vectors[\"conduction_NN\"])"
   ]
  },
  {
   "cell_type": "markdown",
   "metadata": {},
   "source": [
    "### Creating the dataset"
   ]
  },
  {
   "cell_type": "code",
   "execution_count": 48,
   "metadata": {
    "collapsed": true
   },
   "outputs": [],
   "source": [
    "def load_data(df):\n",
    "    X = np.array([]).reshape(0,vector_size)\n",
    "    words = np.array([])\n",
    "    Y = np.array([])\n",
    "    for sentenceID, labels in label_dict.items():\n",
    "        if df[df.sentenceID == sentenceID].empty:\n",
    "            #print('empty')\n",
    "            continue\n",
    "        else: \n",
    "            sentence = df[df.sentenceID == sentenceID]['sentenceText'].values[0]\n",
    "            #print(sentence) \n",
    "        tok_sentence = word_tokenize(sentence)\n",
    "        tok_sentence_pos = [ word + '_' + pos for word, pos in pos_tag(tok_sentence, tagset=None)]\n",
    "\n",
    "        for word, label in zip(tok_sentence_pos, labels):\n",
    "            word_vector = word_vectors[word]\n",
    "            #print(word_vector, label)\n",
    "            X = np.vstack((X, word_vector))\n",
    "            Y = np.append(Y, label)       \n",
    "            words = np.append(words, word)\n",
    "            #print(word)\n",
    "    return X, Y, words"
   ]
  },
  {
   "cell_type": "code",
   "execution_count": 49,
   "metadata": {},
   "outputs": [],
   "source": [
    "# create X_train, Y_train\n",
    "X_train = np.array([]).reshape(0,vector_size)\n",
    "Y_train = np.array([])\n",
    "words_train = np.array([])\n",
    "\n",
    "X_test1 = np.array([]).reshape(0,vector_size)\n",
    "Y_test1 = np.array([])\n",
    "words_test1 = np.array([])\n",
    "\n",
    "X_test2 = np.array([]).reshape(0,vector_size)\n",
    "Y_test2 = np.array([])\n",
    "words_test2 = np.array([])"
   ]
  },
  {
   "cell_type": "code",
   "execution_count": 50,
   "metadata": {},
   "outputs": [],
   "source": [
    "X_train, Y_train, words_train = load_data(sentences_df_train)\n",
    "X_test1, Y_test1, words_test1 = load_data(sentences_df_test1)\n",
    "X_test2, Y_test2, words_test2 = load_data(sentences_df_test2)"
   ]
  },
  {
   "cell_type": "code",
   "execution_count": 51,
   "metadata": {},
   "outputs": [
    {
     "name": "stdout",
     "output_type": "stream",
     "text": [
      "(128806, 20) (128806,)\n",
      "(7818, 20) (7818,)\n",
      "(26498, 20) (26498,)\n"
     ]
    }
   ],
   "source": [
    "print (X_train.shape, Y_train.shape)\n",
    "print (X_test1.shape, Y_test1.shape)\n",
    "print (X_test2.shape, Y_test2.shape)\n"
   ]
  },
  {
   "cell_type": "markdown",
   "metadata": {},
   "source": [
    "### One-hot encoding of labels\n",
    "Convert labels from B-I-O to $[1 0 0, 0 1 0, 0 0 1]$"
   ]
  },
  {
   "cell_type": "code",
   "execution_count": 21,
   "metadata": {
    "collapsed": true
   },
   "outputs": [],
   "source": [
    "# encode class values as integers = B-I-O -> 0-1-2\n",
    "encoder = LabelEncoder()\n",
    "encoded_Y = encoder.fit_transform(Y_train)\n",
    "Y_train = encoded_Y\n",
    "# convert integers to one-hot encoding\n",
    "Y_train_one_hot = np_utils.to_categorical(encoded_Y) # SVM does not need one-hot encoding"
   ]
  },
  {
   "cell_type": "markdown",
   "metadata": {},
   "source": [
    "### Creating feature transformers"
   ]
  },
  {
   "cell_type": "code",
   "execution_count": 56,
   "metadata": {
    "collapsed": true
   },
   "outputs": [],
   "source": [
    "class Embedder(FeatureTransformer):\n",
    "  # returns embedding for each word\n",
    "  def transform(self, X, y=None, **fit_params):\n",
    "    return [word_vectors[x] for x in X]    "
   ]
  },
  {
   "cell_type": "code",
   "execution_count": 57,
   "metadata": {},
   "outputs": [
    {
     "data": {
      "text/plain": [
       "[array([-0.10479831, -0.61033344, -0.44563627,  0.2693795 , -0.15509547,\n",
       "         0.29334313, -0.47899345, -0.04716818,  0.00209791, -0.20859599,\n",
       "        -0.14789408,  0.6283411 , -0.5333641 ,  0.2543242 , -0.03934008,\n",
       "        -0.06368278,  0.1590413 , -0.15598874, -0.17961134,  0.1906127 ],\n",
       "       dtype=float32)]"
      ]
     },
     "execution_count": 57,
     "metadata": {},
     "output_type": "execute_result"
    }
   ],
   "source": [
    "emb = Embedder()\n",
    "emb.transform(['conduction_NN'])"
   ]
  },
  {
   "cell_type": "code",
   "execution_count": 58,
   "metadata": {
    "collapsed": true
   },
   "outputs": [],
   "source": [
    "class Capitalizer(FeatureTransformer):\n",
    "    # return 1 if the word is capitalized\n",
    "    def transform(self, X, y=None, **fit_params):\n",
    "        return [1 if x[0].isupper() else 0 for x in X]"
   ]
  },
  {
   "cell_type": "code",
   "execution_count": 60,
   "metadata": {},
   "outputs": [
    {
     "data": {
      "text/plain": [
       "[0]"
      ]
     },
     "execution_count": 60,
     "metadata": {},
     "output_type": "execute_result"
    }
   ],
   "source": [
    "cap = Capitalizer()\n",
    "cap.transform(['conduction_NN'])"
   ]
  },
  {
   "cell_type": "code",
   "execution_count": 72,
   "metadata": {},
   "outputs": [
    {
     "name": "stdout",
     "output_type": "stream",
     "text": [
      "(128806, 1)\n"
     ]
    },
    {
     "ename": "ValueError",
     "evalue": "all the input arrays must have same number of dimensions",
     "output_type": "error",
     "traceback": [
      "\u001b[0;31m---------------------------------------------------------------------------\u001b[0m",
      "\u001b[0;31mValueError\u001b[0m                                Traceback (most recent call last)",
      "\u001b[0;32m<ipython-input-72-702bc1252c8b>\u001b[0m in \u001b[0;36m<module>\u001b[0;34m()\u001b[0m\n\u001b[1;32m     10\u001b[0m \u001b[0;34m\u001b[0m\u001b[0m\n\u001b[1;32m     11\u001b[0m \u001b[0mprint\u001b[0m\u001b[0;34m(\u001b[0m\u001b[0mwords_train\u001b[0m\u001b[0;34m.\u001b[0m\u001b[0mreshape\u001b[0m\u001b[0;34m(\u001b[0m\u001b[0;34m-\u001b[0m\u001b[0;36m1\u001b[0m\u001b[0;34m,\u001b[0m \u001b[0;36m1\u001b[0m\u001b[0;34m)\u001b[0m\u001b[0;34m.\u001b[0m\u001b[0mshape\u001b[0m\u001b[0;34m)\u001b[0m\u001b[0;34m\u001b[0m\u001b[0m\n\u001b[0;32m---> 12\u001b[0;31m \u001b[0mdata\u001b[0m \u001b[0;34m=\u001b[0m \u001b[0mpipe\u001b[0m\u001b[0;34m.\u001b[0m\u001b[0mtransform\u001b[0m\u001b[0;34m(\u001b[0m\u001b[0mwords_train\u001b[0m\u001b[0;34m.\u001b[0m\u001b[0mreshape\u001b[0m\u001b[0;34m(\u001b[0m\u001b[0;34m-\u001b[0m\u001b[0;36m1\u001b[0m\u001b[0;34m,\u001b[0m \u001b[0;36m1\u001b[0m\u001b[0;34m)\u001b[0m\u001b[0;34m)\u001b[0m\u001b[0;34m\u001b[0m\u001b[0m\n\u001b[0m\u001b[1;32m     13\u001b[0m \u001b[0mprint\u001b[0m\u001b[0;34m(\u001b[0m\u001b[0mdata\u001b[0m\u001b[0;34m.\u001b[0m\u001b[0mshape\u001b[0m\u001b[0;34m)\u001b[0m\u001b[0;34m\u001b[0m\u001b[0m\n\u001b[1;32m     14\u001b[0m \u001b[0;31m#clf.fit(data)\u001b[0m\u001b[0;34m\u001b[0m\u001b[0;34m\u001b[0m\u001b[0m\n",
      "\u001b[0;32m/usr/local/lib/python3.5/dist-packages/sklearn/pipeline.py\u001b[0m in \u001b[0;36mtransform\u001b[0;34m(self, X)\u001b[0m\n\u001b[1;32m    782\u001b[0m             \u001b[0mXs\u001b[0m \u001b[0;34m=\u001b[0m \u001b[0msparse\u001b[0m\u001b[0;34m.\u001b[0m\u001b[0mhstack\u001b[0m\u001b[0;34m(\u001b[0m\u001b[0mXs\u001b[0m\u001b[0;34m)\u001b[0m\u001b[0;34m.\u001b[0m\u001b[0mtocsr\u001b[0m\u001b[0;34m(\u001b[0m\u001b[0;34m)\u001b[0m\u001b[0;34m\u001b[0m\u001b[0m\n\u001b[1;32m    783\u001b[0m         \u001b[0;32melse\u001b[0m\u001b[0;34m:\u001b[0m\u001b[0;34m\u001b[0m\u001b[0m\n\u001b[0;32m--> 784\u001b[0;31m             \u001b[0mXs\u001b[0m \u001b[0;34m=\u001b[0m \u001b[0mnp\u001b[0m\u001b[0;34m.\u001b[0m\u001b[0mhstack\u001b[0m\u001b[0;34m(\u001b[0m\u001b[0mXs\u001b[0m\u001b[0;34m)\u001b[0m\u001b[0;34m\u001b[0m\u001b[0m\n\u001b[0m\u001b[1;32m    785\u001b[0m         \u001b[0;32mreturn\u001b[0m \u001b[0mXs\u001b[0m\u001b[0;34m\u001b[0m\u001b[0m\n\u001b[1;32m    786\u001b[0m \u001b[0;34m\u001b[0m\u001b[0m\n",
      "\u001b[0;32m/usr/local/lib/python3.5/dist-packages/numpy/core/shape_base.py\u001b[0m in \u001b[0;36mhstack\u001b[0;34m(tup)\u001b[0m\n\u001b[1;32m    284\u001b[0m     \u001b[0;31m# As a special case, dimension 0 of 1-dimensional arrays is \"horizontal\"\u001b[0m\u001b[0;34m\u001b[0m\u001b[0;34m\u001b[0m\u001b[0m\n\u001b[1;32m    285\u001b[0m     \u001b[0;32mif\u001b[0m \u001b[0marrs\u001b[0m \u001b[0;32mand\u001b[0m \u001b[0marrs\u001b[0m\u001b[0;34m[\u001b[0m\u001b[0;36m0\u001b[0m\u001b[0;34m]\u001b[0m\u001b[0;34m.\u001b[0m\u001b[0mndim\u001b[0m \u001b[0;34m==\u001b[0m \u001b[0;36m1\u001b[0m\u001b[0;34m:\u001b[0m\u001b[0;34m\u001b[0m\u001b[0m\n\u001b[0;32m--> 286\u001b[0;31m         \u001b[0;32mreturn\u001b[0m \u001b[0m_nx\u001b[0m\u001b[0;34m.\u001b[0m\u001b[0mconcatenate\u001b[0m\u001b[0;34m(\u001b[0m\u001b[0marrs\u001b[0m\u001b[0;34m,\u001b[0m \u001b[0;36m0\u001b[0m\u001b[0;34m)\u001b[0m\u001b[0;34m\u001b[0m\u001b[0m\n\u001b[0m\u001b[1;32m    287\u001b[0m     \u001b[0;32melse\u001b[0m\u001b[0;34m:\u001b[0m\u001b[0;34m\u001b[0m\u001b[0m\n\u001b[1;32m    288\u001b[0m         \u001b[0;32mreturn\u001b[0m \u001b[0m_nx\u001b[0m\u001b[0;34m.\u001b[0m\u001b[0mconcatenate\u001b[0m\u001b[0;34m(\u001b[0m\u001b[0marrs\u001b[0m\u001b[0;34m,\u001b[0m \u001b[0;36m1\u001b[0m\u001b[0;34m)\u001b[0m\u001b[0;34m\u001b[0m\u001b[0m\n",
      "\u001b[0;31mValueError\u001b[0m: all the input arrays must have same number of dimensions"
     ]
    }
   ],
   "source": [
    "from sklearn.pipeline import Pipeline, FeatureUnion\n",
    "from sklearn.svm import SVC, LinearSVC\n",
    "\n",
    "clf = LinearSVC()\n",
    "\n",
    "pipe = FeatureUnion([\n",
    "    ('emb', Embedder()),\n",
    "    ('cap', Capitalizer()),\n",
    "])\n",
    "\n",
    "print(words_train.reshape(-1, 1).shape)\n",
    "data = pipe.transform(words_train.reshape(-1, 1))\n",
    "print(data.shape)\n",
    "#clf.fit(data)"
   ]
  },
  {
   "cell_type": "markdown",
   "metadata": {},
   "source": [
    "## split train / validation set"
   ]
  },
  {
   "cell_type": "code",
   "execution_count": 22,
   "metadata": {},
   "outputs": [
    {
     "name": "stdout",
     "output_type": "stream",
     "text": [
      "(103044, 20) (25762, 20)\n",
      "(103044,) (25762,)\n"
     ]
    }
   ],
   "source": [
    "# split train validation (SVM)\n",
    "train_perc = 0.8\n",
    "train_size = int(len(X_train) * train_perc)\n",
    "\n",
    "X_tr, X_vl = X_train[:train_size,:], X_train[train_size:,:]\n",
    "Y_tr, Y_vl = Y_train[:train_size], Y_train[train_size:]\n",
    "\n",
    "print (X_tr.shape, X_vl.shape)\n",
    "print (Y_tr.shape, Y_vl.shape)"
   ]
  },
  {
   "cell_type": "code",
   "execution_count": 19,
   "metadata": {
    "collapsed": true
   },
   "outputs": [],
   "source": [
    "# split train validatioin (NN)\n",
    "Y_tr_nn, Y_vl_nn = Y_train_one_hot[:train_size], Y_train_one_hot[train_size:]"
   ]
  },
  {
   "cell_type": "markdown",
   "metadata": {},
   "source": [
    "# Using SVM"
   ]
  },
  {
   "cell_type": "code",
   "execution_count": 20,
   "metadata": {
    "collapsed": true
   },
   "outputs": [],
   "source": [
    "from sklearn import svm\n",
    "\n",
    "model = svm.SVC(kernel='rbf', C=1.0, class_weight=None, gamma='auto', tol=0.001, random_state=None)"
   ]
  },
  {
   "cell_type": "code",
   "execution_count": 21,
   "metadata": {},
   "outputs": [
    {
     "data": {
      "text/plain": [
       "SVC(C=1.0, cache_size=200, class_weight=None, coef0=0.0,\n",
       "  decision_function_shape='ovr', degree=3, gamma='auto', kernel='rbf',\n",
       "  max_iter=-1, probability=False, random_state=None, shrinking=True,\n",
       "  tol=0.001, verbose=False)"
      ]
     },
     "execution_count": 21,
     "metadata": {},
     "output_type": "execute_result"
    }
   ],
   "source": [
    "model.fit(X_tr, Y_tr)"
   ]
  },
  {
   "cell_type": "code",
   "execution_count": 22,
   "metadata": {},
   "outputs": [
    {
     "name": "stdout",
     "output_type": "stream",
     "text": [
      "SVM validation accuracy: 0.878\n"
     ]
    }
   ],
   "source": [
    "print ('SVM validation accuracy:', round(model.score(X_vl, Y_vl),4))"
   ]
  },
  {
   "cell_type": "markdown",
   "metadata": {},
   "source": [
    "# Using ANN"
   ]
  },
  {
   "cell_type": "code",
   "execution_count": 23,
   "metadata": {
    "collapsed": true
   },
   "outputs": [],
   "source": [
    "import keras\n",
    "from keras.models import Sequential\n",
    "from keras.layers.core import Dense, Activation, Dropout\n",
    "from sklearn import preprocessing\n",
    "from keras.optimizers import *\n",
    "from keras.initializers import *\n",
    "\n",
    "import matplotlib.pyplot as plt"
   ]
  },
  {
   "cell_type": "code",
   "execution_count": 24,
   "metadata": {},
   "outputs": [
    {
     "name": "stdout",
     "output_type": "stream",
     "text": [
      "WARNING:tensorflow:From /usr/local/lib/python3.5/dist-packages/keras/backend/tensorflow_backend.py:2745: calling reduce_sum (from tensorflow.python.ops.math_ops) with keep_dims is deprecated and will be removed in a future version.\n",
      "Instructions for updating:\n",
      "keep_dims is deprecated, use keepdims instead\n",
      "WARNING:tensorflow:From /usr/local/lib/python3.5/dist-packages/keras/backend/tensorflow_backend.py:1299: calling reduce_mean (from tensorflow.python.ops.math_ops) with keep_dims is deprecated and will be removed in a future version.\n",
      "Instructions for updating:\n",
      "keep_dims is deprecated, use keepdims instead\n",
      "_________________________________________________________________\n",
      "Layer (type)                 Output Shape              Param #   \n",
      "=================================================================\n",
      "dense_1 (Dense)              (None, 64)                1344      \n",
      "_________________________________________________________________\n",
      "dense_2 (Dense)              (None, 32)                2080      \n",
      "_________________________________________________________________\n",
      "dense_3 (Dense)              (None, 3)                 99        \n",
      "=================================================================\n",
      "Total params: 3,523\n",
      "Trainable params: 3,523\n",
      "Non-trainable params: 0\n",
      "_________________________________________________________________\n"
     ]
    }
   ],
   "source": [
    "num_inputs = X_train.shape[1] # size of a vector\n",
    "num_outputs = 3 # b-i-o tags\n",
    "\n",
    "model = Sequential()\n",
    "\n",
    "model.add(Dense(units=64, input_shape=(num_inputs,), activation='relu'))\n",
    "model.add(Dense(units=32, activation='relu'))\n",
    "model.add(Dense(units=num_outputs, activation='softmax'))\n",
    "\n",
    "model.compile(loss='categorical_crossentropy', \n",
    "              optimizer='adam',\n",
    "              metrics=['accuracy'])\n",
    "\n",
    "model.summary()"
   ]
  },
  {
   "cell_type": "code",
   "execution_count": 25,
   "metadata": {
    "scrolled": true
   },
   "outputs": [
    {
     "name": "stdout",
     "output_type": "stream",
     "text": [
      "Train on 103044 samples, validate on 25762 samples\n",
      "Epoch 1/10\n",
      "103044/103044 [==============================] - 17s - loss: 0.2910 - acc: 0.8787 - val_loss: 0.2844 - val_acc: 0.8820\n",
      "Epoch 2/10\n",
      "103044/103044 [==============================] - 18s - loss: 0.2707 - acc: 0.8855 - val_loss: 0.2757 - val_acc: 0.8850\n",
      "Epoch 3/10\n",
      "103044/103044 [==============================] - 17s - loss: 0.2643 - acc: 0.8877 - val_loss: 0.2585 - val_acc: 0.8901\n",
      "Epoch 4/10\n",
      "103044/103044 [==============================] - 18s - loss: 0.2594 - acc: 0.8892 - val_loss: 0.2702 - val_acc: 0.8820\n",
      "Epoch 5/10\n",
      "103044/103044 [==============================] - 18s - loss: 0.2551 - acc: 0.8906 - val_loss: 0.2679 - val_acc: 0.8888\n",
      "Epoch 6/10\n",
      "103044/103044 [==============================] - 18s - loss: 0.2515 - acc: 0.8925 - val_loss: 0.2459 - val_acc: 0.8943\n",
      "Epoch 7/10\n",
      "103044/103044 [==============================] - 18s - loss: 0.2483 - acc: 0.8935 - val_loss: 0.2425 - val_acc: 0.8950\n",
      "Epoch 8/10\n",
      "103044/103044 [==============================] - 17s - loss: 0.2455 - acc: 0.8953 - val_loss: 0.2454 - val_acc: 0.8945\n",
      "Epoch 9/10\n",
      "103044/103044 [==============================] - 18s - loss: 0.2434 - acc: 0.8953 - val_loss: 0.2454 - val_acc: 0.8931\n",
      "Epoch 10/10\n",
      "103044/103044 [==============================] - 18s - loss: 0.2396 - acc: 0.8968 - val_loss: 0.2545 - val_acc: 0.8945\n"
     ]
    }
   ],
   "source": [
    "epochs = 10\n",
    "batch_size = 10\n",
    "\n",
    "history = model.fit(X_tr, Y_tr_nn, \n",
    "                    epochs=10, \n",
    "                    shuffle=True, verbose=1, \n",
    "                    batch_size=batch_size,\n",
    "                    validation_data=(X_vl, Y_vl_nn))"
   ]
  },
  {
   "cell_type": "code",
   "execution_count": 26,
   "metadata": {},
   "outputs": [
    {
     "data": {
      "image/png": "[encoded data removed]",
      "text/plain": [
       "<matplotlib.figure.Figure at 0x7fda51807278>"
      ]
     },
     "metadata": {},
     "output_type": "display_data"
    },
    {
     "data": {
      "image/png": "[encoded data removed]",
      "text/plain": [
       "<matplotlib.figure.Figure at 0x7fda516d3320>"
      ]
     },
     "metadata": {},
     "output_type": "display_data"
    }
   ],
   "source": [
    "plt.plot(history.history['loss'], label='tr loss', linestyle='--', marker='o')\n",
    "plt.plot(history.history['val_loss'], label='vl loss', linestyle='-', marker='o')\n",
    "plt.xlabel('Epoch')\n",
    "plt.ylabel('Cathegorical cross-entropy')\n",
    "plt.legend(loc='best')\n",
    "\n",
    "plt.show()\n",
    "\n",
    "plt.plot(history.history['acc'], label='tr accuracy', linestyle='--', marker='o')\n",
    "plt.plot(history.history['val_acc'], label='vl accuracy', linestyle='-', marker='o')\n",
    "plt.xlabel('Epoch')\n",
    "plt.ylabel('Accuracy')\n",
    "plt.legend(loc='best')\n",
    "\n",
    "plt.show()"
   ]
  },
  {
   "cell_type": "markdown",
   "metadata": {},
   "source": [
    "# Test"
   ]
  },
  {
   "cell_type": "code",
   "execution_count": null,
   "metadata": {
    "collapsed": true
   },
   "outputs": [],
   "source": []
  },
  {
   "cell_type": "code",
   "execution_count": null,
   "metadata": {
    "collapsed": true
   },
   "outputs": [],
   "source": []
  }
 ],
 "metadata": {
  "kernelspec": {
   "display_name": "Python 3",
   "language": "python",
   "name": "python3"
  },
  "language_info": {
   "codemirror_mode": {
    "name": "ipython",
    "version": 3
   },
   "file_extension": ".py",
   "mimetype": "text/x-python",
   "name": "python",
   "nbconvert_exporter": "python",
   "pygments_lexer": "ipython3",
   "version": "3.5.2"
  }
 },
 "nbformat": 4,
 "nbformat_minor": 2
}
