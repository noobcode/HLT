{
 "cells": [
  {
   "cell_type": "code",
   "execution_count": 1,
   "metadata": {
    "collapsed": true
   },
   "outputs": [],
   "source": [
    "# Gensim\n",
    "import gensim\n",
    "from gensim.models import Word2Vec\n",
    "\n",
    "# to make nbs importable\n",
    "import io, os, sys, types\n",
    "from IPython import get_ipython\n",
    "from nbformat import read\n",
    "from IPython.core.interactiveshell import InteractiveShell\n",
    "\n",
    "import pandas as pd\n",
    "import numpy as np\n",
    "\n",
    "from multiprocessing import cpu_count\n",
    "\n",
    "# custom\n",
    "from analize_text import get_sentenceID\n",
    "from paths import *\n",
    "\n",
    "# nltk\n",
    "import nltk\n",
    "from nltk import word_tokenize\n",
    "from nltk.stem.snowball import EnglishStemmer\n",
    "from nltk import pos_tag, pos_tag_sents\n",
    "\n"
   ]
  },
  {
   "cell_type": "markdown",
   "metadata": {},
   "source": [
    "### Reading sentences from structured data frames"
   ]
  },
  {
   "cell_type": "code",
   "execution_count": 2,
   "metadata": {},
   "outputs": [
    {
     "name": "stdout",
     "output_type": "stream",
     "text": [
      "6832 664 1299\n"
     ]
    }
   ],
   "source": [
    "# read dataframes of sentences and entities\n",
    "\n",
    "# TRAIN SET\n",
    "sentences_df_train = pd.read_csv(SENTENCE_PATH_train)\n",
    "entities_df_train = pd.read_csv(ENTITY_PATH_train)\n",
    "\n",
    "#TEST SET\n",
    "sentences_df_test1 = pd.read_csv(SENTENCE_PATH_test1)\n",
    "entities_df_test1 = pd.read_csv(ENTITY_PATH_test1)\n",
    "\n",
    "#TEST2 SET\n",
    "sentences_df_test2 = pd.read_csv(SENTENCE_PATH_test2)\n",
    "entities_df_test2 = pd.read_csv(ENTITY_PATH_test2)\n",
    "\n",
    "print(len(sentences_df_train), len(sentences_df_test1), len(sentences_df_test2))"
   ]
  },
  {
   "cell_type": "code",
   "execution_count": 3,
   "metadata": {
    "collapsed": true
   },
   "outputs": [],
   "source": [
    "# Concatenating training and test data for the word2vec training!\n",
    "sentences_df = pd.concat([sentences_df_train,\n",
    "                          sentences_df_test1,\n",
    "                          sentences_df_test2]).drop_duplicates().reset_index(drop=True)\n",
    "\n",
    "entities_df = pd.concat([entities_df_train,\n",
    "                         entities_df_test1,\n",
    "                         entities_df_test2]).drop_duplicates().reset_index(drop=True)"
   ]
  },
  {
   "cell_type": "markdown",
   "metadata": {},
   "source": [
    "### Sentences dataframe"
   ]
  },
  {
   "cell_type": "code",
   "execution_count": 4,
   "metadata": {},
   "outputs": [
    {
     "name": "stdout",
     "output_type": "stream",
     "text": [
      "Sentences dataframe\n"
     ]
    },
    {
     "data": {
      "text/html": [
       "<div>\n",
       "<style scoped>\n",
       "    .dataframe tbody tr th:only-of-type {\n",
       "        vertical-align: middle;\n",
       "    }\n",
       "\n",
       "    .dataframe tbody tr th {\n",
       "        vertical-align: top;\n",
       "    }\n",
       "\n",
       "    .dataframe thead th {\n",
       "        text-align: right;\n",
       "    }\n",
       "</style>\n",
       "<table border=\"1\" class=\"dataframe\">\n",
       "  <thead>\n",
       "    <tr style=\"text-align: right;\">\n",
       "      <th></th>\n",
       "      <th>sentenceID</th>\n",
       "      <th>sentenceText</th>\n",
       "    </tr>\n",
       "  </thead>\n",
       "  <tbody>\n",
       "    <tr>\n",
       "      <th>0</th>\n",
       "      <td>DDI-DrugBank.d281.s0</td>\n",
       "      <td>Probenecid may decrease renal tubular secretio...</td>\n",
       "    </tr>\n",
       "    <tr>\n",
       "      <th>1</th>\n",
       "      <td>DDI-DrugBank.d281.s1</td>\n",
       "      <td>Drug/Laboratory Test Interactions A false posi...</td>\n",
       "    </tr>\n",
       "    <tr>\n",
       "      <th>2</th>\n",
       "      <td>DDI-DrugBank.d281.s2</td>\n",
       "      <td>Positive direct and indirect antiglobulin (Coo...</td>\n",
       "    </tr>\n",
       "    <tr>\n",
       "      <th>3</th>\n",
       "      <td>DDI-DrugBank.d281.s3</td>\n",
       "      <td>these may also occur in neonates whose mothers...</td>\n",
       "    </tr>\n",
       "    <tr>\n",
       "      <th>4</th>\n",
       "      <td>DDI-DrugBank.d384.s0</td>\n",
       "      <td>Interactions for vitamin D analogues (Vitamin ...</td>\n",
       "    </tr>\n",
       "  </tbody>\n",
       "</table>\n",
       "</div>"
      ],
      "text/plain": [
       "             sentenceID                                       sentenceText\n",
       "0  DDI-DrugBank.d281.s0  Probenecid may decrease renal tubular secretio...\n",
       "1  DDI-DrugBank.d281.s1  Drug/Laboratory Test Interactions A false posi...\n",
       "2  DDI-DrugBank.d281.s2  Positive direct and indirect antiglobulin (Coo...\n",
       "3  DDI-DrugBank.d281.s3  these may also occur in neonates whose mothers...\n",
       "4  DDI-DrugBank.d384.s0  Interactions for vitamin D analogues (Vitamin ..."
      ]
     },
     "execution_count": 4,
     "metadata": {},
     "output_type": "execute_result"
    }
   ],
   "source": [
    "print('Sentences dataframe')\n",
    "sentences_df_train.head()\n",
    "#sentences_df_test2.info()"
   ]
  },
  {
   "cell_type": "markdown",
   "metadata": {},
   "source": [
    "### Entities dataframe"
   ]
  },
  {
   "cell_type": "code",
   "execution_count": 5,
   "metadata": {},
   "outputs": [
    {
     "name": "stdout",
     "output_type": "stream",
     "text": [
      "Entities dataframe\n"
     ]
    },
    {
     "data": {
      "text/html": [
       "<div>\n",
       "<style scoped>\n",
       "    .dataframe tbody tr th:only-of-type {\n",
       "        vertical-align: middle;\n",
       "    }\n",
       "\n",
       "    .dataframe tbody tr th {\n",
       "        vertical-align: top;\n",
       "    }\n",
       "\n",
       "    .dataframe thead th {\n",
       "        text-align: right;\n",
       "    }\n",
       "</style>\n",
       "<table border=\"1\" class=\"dataframe\">\n",
       "  <thead>\n",
       "    <tr style=\"text-align: right;\">\n",
       "      <th></th>\n",
       "      <th>entityID</th>\n",
       "      <th>name</th>\n",
       "      <th>position</th>\n",
       "      <th>type</th>\n",
       "    </tr>\n",
       "  </thead>\n",
       "  <tbody>\n",
       "    <tr>\n",
       "      <th>0</th>\n",
       "      <td>DDI-DrugBank.d281.s0.e0</td>\n",
       "      <td>Probenecid</td>\n",
       "      <td>0-9</td>\n",
       "      <td>drug</td>\n",
       "    </tr>\n",
       "    <tr>\n",
       "      <th>1</th>\n",
       "      <td>DDI-DrugBank.d281.s0.e1</td>\n",
       "      <td>cephalosporins</td>\n",
       "      <td>51-64</td>\n",
       "      <td>group</td>\n",
       "    </tr>\n",
       "    <tr>\n",
       "      <th>2</th>\n",
       "      <td>DDI-DrugBank.d281.s0.e2</td>\n",
       "      <td>cephalosporin</td>\n",
       "      <td>132-144</td>\n",
       "      <td>group</td>\n",
       "    </tr>\n",
       "    <tr>\n",
       "      <th>3</th>\n",
       "      <td>DDI-DrugBank.d281.s3.e0</td>\n",
       "      <td>cephalosporins</td>\n",
       "      <td>56-69</td>\n",
       "      <td>group</td>\n",
       "    </tr>\n",
       "    <tr>\n",
       "      <th>4</th>\n",
       "      <td>DDI-DrugBank.d384.s0.e0</td>\n",
       "      <td>vitamin D analogues</td>\n",
       "      <td>17-35</td>\n",
       "      <td>group</td>\n",
       "    </tr>\n",
       "  </tbody>\n",
       "</table>\n",
       "</div>"
      ],
      "text/plain": [
       "                  entityID                 name position   type\n",
       "0  DDI-DrugBank.d281.s0.e0           Probenecid      0-9   drug\n",
       "1  DDI-DrugBank.d281.s0.e1       cephalosporins    51-64  group\n",
       "2  DDI-DrugBank.d281.s0.e2        cephalosporin  132-144  group\n",
       "3  DDI-DrugBank.d281.s3.e0       cephalosporins    56-69  group\n",
       "4  DDI-DrugBank.d384.s0.e0  vitamin D analogues    17-35  group"
      ]
     },
     "execution_count": 5,
     "metadata": {},
     "output_type": "execute_result"
    }
   ],
   "source": [
    "print('Entities dataframe')\n",
    "entities_df_train.head()\n",
    "#entities_df.info()"
   ]
  },
  {
   "cell_type": "markdown",
   "metadata": {},
   "source": [
    "### Load label dictionary {sentenceID: [ 'B', 'I', ..., 'O'] }\n"
   ]
  },
  {
   "cell_type": "code",
   "execution_count": 6,
   "metadata": {
    "collapsed": true
   },
   "outputs": [],
   "source": [
    "label_dict_path = os.path.join(ROOT_DIR, 'Train', 'bio_labels')\n",
    "label_dict = np.load(label_dict_path + '.npy').item()\n",
    "\n",
    "sentenceIDs = label_dict.keys()"
   ]
  },
  {
   "cell_type": "markdown",
   "metadata": {},
   "source": [
    "### Tokenize sentences"
   ]
  },
  {
   "cell_type": "code",
   "execution_count": 7,
   "metadata": {},
   "outputs": [
    {
     "name": "stdout",
     "output_type": "stream",
     "text": [
      "8492\n"
     ]
    }
   ],
   "source": [
    "sentences = [row['sentenceText'] for index, row in sentences_df.iterrows()]\n",
    "# remove duplicates from sentence list (sentences with e.g. 2 entities appeared twice)\n",
    "sentences = list(set(sentences))\n",
    "#print(sentences)\n",
    "print(len(sentences))\n",
    "tokenized_sentences = [word_tokenize(sentence) for sentence in sentences]"
   ]
  },
  {
   "cell_type": "markdown",
   "metadata": {},
   "source": [
    "### Stemming + POS"
   ]
  },
  {
   "cell_type": "code",
   "execution_count": 8,
   "metadata": {},
   "outputs": [
    {
     "name": "stdout",
     "output_type": "stream",
     "text": [
      "original:  ['interaction', 'between', 'cimetidine', 'and', 'warfarin', 'could', 'be', 'dangerous']\n",
      "stemmed:   ['interact', 'between', 'cimetidin', 'and', 'warfarin', 'could', 'be', 'danger']\n",
      "Conclusion: It stemms the drug names too.\n"
     ]
    }
   ],
   "source": [
    "# POS needs to be extracted before stemming appended afterwards\n",
    "# TODO: try which one performs better\n",
    "stemmer = EnglishStemmer()\n",
    "s = ['interaction', 'between', 'cimetidine', 'and', 'warfarin', 'could', 'be', 'dangerous']\n",
    "\n",
    "print ('original: ', s)\n",
    "print('stemmed:  ', [stemmer.stem(w) for w in s])\n",
    "print('Conclusion: It stemms the drug names too.')"
   ]
  },
  {
   "cell_type": "markdown",
   "metadata": {},
   "source": [
    "### Appending POS tags\n",
    "- tokens will have the form: stemmed-word_POS if argument stem=True\n",
    "- tokens will have the form: word_POS         if argument stem=False"
   ]
  },
  {
   "cell_type": "code",
   "execution_count": 9,
   "metadata": {
    "collapsed": true
   },
   "outputs": [],
   "source": [
    "def tokenize_with_POS(sentences, stem=True):\n",
    "    tokenized_sentences = [word_tokenize(sentence) for sentence in sentences]\n",
    "    tokenized_pos = pos_tag_sents(tokenized_sentences, tagset=None)\n",
    "    if stem:\n",
    "        tokenized_pos = [ [stemmer.stem(w) + '_' + pos for w, pos in s ] for s in tokenized_pos]\n",
    "    else:\n",
    "        tokenized_pos = [ [w + '_' + pos for w, pos in s ] for s in tokenized_pos]\n",
    "    return tokenized_pos  "
   ]
  },
  {
   "cell_type": "markdown",
   "metadata": {},
   "source": [
    "### Training word2vec with dimensions= vectorsize"
   ]
  },
  {
   "cell_type": "code",
   "execution_count": 10,
   "metadata": {},
   "outputs": [
    {
     "name": "stdout",
     "output_type": "stream",
     "text": [
      "['the_DT', 'effect_NN', 'of_IN', 'gabapentin_NN', 'on_IN', 'cimetidin_NN', 'was_VBD', 'not_RB', 'evalu_VBN', '._.']\n",
      "8492\n",
      "latest loss: 0.0\n"
     ]
    }
   ],
   "source": [
    "vector_size = 20\n",
    "\n",
    "tokenized_sentences_pos = tokenize_with_POS(sentences)\n",
    "print(tokenized_sentences_pos[0])\n",
    "print(len(tokenized_sentences_pos))  \n",
    "\n",
    "model = Word2Vec(tokenized_sentences_pos, size=vector_size, window=5, min_count=1, workers=cpu_count(), compute_loss=True)\n",
    "model.train(sentences, total_examples=len(sentences), epochs=10)\n",
    "print ('latest loss:', model.get_latest_training_loss())\n",
    "\n",
    "# save embeddings and delete model\n",
    "model.save(\"../word_vectors\")\n",
    "#model = Word2Vec.load('../word_vectors')\n",
    "word_vectors = model.wv\n",
    "del model"
   ]
  },
  {
   "cell_type": "code",
   "execution_count": 11,
   "metadata": {},
   "outputs": [
    {
     "name": "stdout",
     "output_type": "stream",
     "text": [
      "[-0.64336133 -0.13537563 -0.12868695 -0.13165009 -0.10287455  0.5218419\n",
      " -0.193023   -0.02495184  0.3221799  -0.35481405  0.76113516  0.0760758\n",
      " -0.44677114  0.24988987  0.35520503  0.47339836  0.32494453  0.57354724\n",
      " -0.15979838 -0.18083699]\n",
      "[-0.03398504 -0.01368822 -0.01854203  0.04567573  0.01171889  0.03160236\n",
      "  0.01385679 -0.02284383  0.00455418  0.0305319   0.01115585  0.01047091\n",
      " -0.0091681   0.04327663 -0.01575882 -0.01894831  0.03560774  0.01607608\n",
      " -0.03072158 -0.05516386]\n"
     ]
    }
   ],
   "source": [
    "#print(word_vectors[\"conduction_NN\"]) \n",
    "print(word_vectors[\"conduct_NN\"]) #stemmed\n",
    "print(word_vectors['105_CD'])"
   ]
  },
  {
   "cell_type": "markdown",
   "metadata": {},
   "source": [
    "### Creating the dataset"
   ]
  },
  {
   "cell_type": "code",
   "execution_count": 19,
   "metadata": {},
   "outputs": [],
   "source": [
    "def load_data(df):\n",
    "    X = np.array([]).reshape(0,vector_size)\n",
    "    Y = np.array([])\n",
    "    sentences = [row['sentenceText'] for index, row in df.iterrows()]\n",
    "    sentenceIDs = [row['sentenceID'] for index, row in df.iterrows()]\n",
    "    tokenized_sentences_pos = tokenize_with_POS(sentences)\n",
    "    print(len(sentences), len(sentenceIDs), len(tokenized_sentences_pos))\n",
    "    for sen, ID in (zip(tokenized_sentences_pos, sentenceIDs)):\n",
    "        #print(sen, ID)\n",
    "        labels = label_dict[ID]\n",
    "        #print(labels)\n",
    "        for word, label in zip(sen, labels):\n",
    "                word_vector = word_vectors[word]\n",
    "                #print(word, label)\n",
    "                X = np.vstack((X, word_vector))\n",
    "                Y = np.append(Y, label)\n",
    "    print(X.shape, Y.shape)\n",
    "    return X, Y"
   ]
  },
  {
   "cell_type": "code",
   "execution_count": 20,
   "metadata": {},
   "outputs": [],
   "source": [
    "# create X_train, Y_train\n",
    "X_train = np.array([]).reshape(0,vector_size)\n",
    "Y_train = np.array([])\n",
    "\n",
    "X_test1 = np.array([]).reshape(0,vector_size)\n",
    "Y_test1 = np.array([])\n",
    "\n",
    "X_test2 = np.array([]).reshape(0,vector_size)\n",
    "Y_test2 = np.array([])"
   ]
  },
  {
   "cell_type": "code",
   "execution_count": 29,
   "metadata": {},
   "outputs": [
    {
     "name": "stdout",
     "output_type": "stream",
     "text": [
      "664 664 664\n",
      "(14896, 20) (14896,)\n"
     ]
    }
   ],
   "source": [
    "#X_train, Y_train = load_data(sentences_df_train)\n",
    "X_test1, Y_test1 = load_data(sentences_df_test1)\n",
    "#X_test2, Y_test2 = load_data(sentences_df_test2)\n"
   ]
  },
  {
   "cell_type": "code",
   "execution_count": 30,
   "metadata": {
    "collapsed": true
   },
   "outputs": [],
   "source": [
    "data_path = os.path.join(ROOT_DIR, 'XY')\n",
    "\n",
    "#np.save(os.path.join(data_path, 'X_train.npy'), X_train)\n",
    "np.save(os.path.join(data_path, 'X_test1.npy'), X_test1)\n",
    "#np.save(os.path.join(data_path, 'X_test2.npy'), X_test2)\n",
    "#np.save(os.path.join(data_path, 'Y_train.npy'), Y_train)\n",
    "np.save(os.path.join(data_path, 'Y_test1.npy'), Y_test1)\n",
    "#np.save(os.path.join(data_path, 'Y_test2.npy'), Y_test2)\n"
   ]
  },
  {
   "cell_type": "code",
   "execution_count": 32,
   "metadata": {},
   "outputs": [
    {
     "name": "stdout",
     "output_type": "stream",
     "text": [
      "(14896, 20) (14896,)\n"
     ]
    }
   ],
   "source": [
    "#print (X_train.shape, Y_train.shape)\n",
    "print (X_test1.shape, Y_test1.shape)\n",
    "#print (X_test2.shape, Y_test2.shape)"
   ]
  },
  {
   "cell_type": "markdown",
   "metadata": {},
   "source": [
    "### Encode labels\n",
    "- Convert labels from B-I-O to $0, 1, 2$ for SVM\n",
    "- Convert labels from B-I-O to $[1 0 0, 0 1 0, 0 0 1]$ for ANN"
   ]
  },
  {
   "cell_type": "code",
   "execution_count": null,
   "metadata": {
    "collapsed": true
   },
   "outputs": [],
   "source": [
    "# encode class values as integers = B-I-O -> 0-1-2\n",
    "encoder = LabelEncoder()\n",
    "encoded_Y = encoder.fit_transform(Y_train)\n",
    "Y_train = encoded_Y\n",
    "# convert integers to one-hot encoding\n",
    "Y_train_one_hot = np_utils.to_categorical(encoded_Y) # SVM does not need one-hot encoding"
   ]
  },
  {
   "cell_type": "code",
   "execution_count": null,
   "metadata": {
    "collapsed": true
   },
   "outputs": [],
   "source": []
  },
  {
   "cell_type": "code",
   "execution_count": null,
   "metadata": {
    "collapsed": true
   },
   "outputs": [],
   "source": []
  }
 ],
 "metadata": {
  "kernelspec": {
   "display_name": "Python 3",
   "language": "python",
   "name": "python3"
  },
  "language_info": {
   "codemirror_mode": {
    "name": "ipython",
    "version": 3
   },
   "file_extension": ".py",
   "mimetype": "text/x-python",
   "name": "python",
   "nbconvert_exporter": "python",
   "pygments_lexer": "ipython3",
   "version": "3.5.2"
  }
 },
 "nbformat": 4,
 "nbformat_minor": 2
}
