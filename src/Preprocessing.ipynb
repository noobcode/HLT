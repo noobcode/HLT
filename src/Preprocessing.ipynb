{
 "cells": [
  {
   "cell_type": "code",
   "execution_count": null,
   "metadata": {},
   "outputs": [],
   "source": [
    "# Gensim\n",
    "import gensim\n",
    "from gensim.models import Word2Vec\n",
    "\n",
    "# to make nbs importable\n",
    "import io, os, sys, types\n",
    "from IPython import get_ipython\n",
    "from nbformat import read\n",
    "from IPython.core.interactiveshell import InteractiveShell\n",
    "\n",
    "import pandas as pd\n",
    "import numpy as np\n",
    "\n",
    "from multiprocessing import cpu_count\n",
    "\n",
    "# custom\n",
    "from analize_text import get_sentenceID\n",
    "from paths import *\n",
    "\n",
    "# nltk\n",
    "import nltk\n",
    "from nltk import word_tokenize\n",
    "from nltk.stem.snowball import EnglishStemmer\n",
    "from nltk import pos_tag, pos_tag_sents\n",
    "\n",
    "from sklearn.pipeline import FeatureUnion, Pipeline\n",
    "from sklearn.preprocessing import FunctionTransformer, LabelEncoder, MinMaxScaler, StandardScaler\n",
    "\n",
    "from keras.utils import np_utils\n",
    "\n",
    "\n"
   ]
  },
  {
   "cell_type": "markdown",
   "metadata": {},
   "source": [
    "### Reading sentences from structured data frames"
   ]
  },
  {
   "cell_type": "code",
   "execution_count": null,
   "metadata": {},
   "outputs": [],
   "source": [
    "# read dataframes of sentences and entities\n",
    "\n",
    "# TRAIN SET\n",
    "sentences_df_train = pd.read_csv(SENTENCE_PATH_train)\n",
    "entities_df_train = pd.read_csv(ENTITY_PATH_train)\n",
    "\n",
    "#TEST SET\n",
    "sentences_df_test1 = pd.read_csv(SENTENCE_PATH_test1)\n",
    "entities_df_test1 = pd.read_csv(ENTITY_PATH_test1)\n",
    "\n",
    "#TEST2 SET\n",
    "sentences_df_test2 = pd.read_csv(SENTENCE_PATH_test2)\n",
    "entities_df_test2 = pd.read_csv(ENTITY_PATH_test2)\n",
    "\n",
    "print(len(sentences_df_train), len(sentences_df_test1), len(sentences_df_test2))"
   ]
  },
  {
   "cell_type": "markdown",
   "metadata": {},
   "source": [
    "###  Concatenating training and test data for the word2vec training!"
   ]
  },
  {
   "cell_type": "code",
   "execution_count": null,
   "metadata": {
    "collapsed": true
   },
   "outputs": [],
   "source": [
    "sentences_df = pd.concat([sentences_df_train,\n",
    "                          sentences_df_test1,\n",
    "                          sentences_df_test2]).drop_duplicates().reset_index(drop=True)\n",
    "\n",
    "entities_df = pd.concat([entities_df_train,\n",
    "                         entities_df_test1,\n",
    "                         entities_df_test2]).drop_duplicates().reset_index(drop=True)"
   ]
  },
  {
   "cell_type": "markdown",
   "metadata": {},
   "source": [
    "### Sentences dataframe"
   ]
  },
  {
   "cell_type": "code",
   "execution_count": null,
   "metadata": {},
   "outputs": [],
   "source": [
    "print('Sentences dataframe')\n",
    "sentences_df_train.head()\n",
    "#sentences_df_test2.info()"
   ]
  },
  {
   "cell_type": "markdown",
   "metadata": {},
   "source": [
    "### Entities dataframe"
   ]
  },
  {
   "cell_type": "code",
   "execution_count": null,
   "metadata": {},
   "outputs": [],
   "source": [
    "print('Entities dataframe')\n",
    "entities_df_train.head()\n",
    "#entities_df.info()"
   ]
  },
  {
   "cell_type": "markdown",
   "metadata": {},
   "source": [
    "### Load label dictionary {sentenceID: [ 'B', 'I', ..., 'O'] }\n"
   ]
  },
  {
   "cell_type": "code",
   "execution_count": null,
   "metadata": {
    "collapsed": true
   },
   "outputs": [],
   "source": [
    "label_dict_path = os.path.join(ROOT_DIR, 'Train', 'bio_labels')\n",
    "label_dict = np.load(label_dict_path + '.npy').item()\n",
    "\n",
    "sentenceIDs = label_dict.keys()"
   ]
  },
  {
   "cell_type": "markdown",
   "metadata": {},
   "source": [
    "### Tokenize sentences"
   ]
  },
  {
   "cell_type": "code",
   "execution_count": null,
   "metadata": {},
   "outputs": [],
   "source": [
    "sentences = [row['sentenceText'] for index, row in sentences_df.iterrows()]\n",
    "# remove duplicates from sentence list (sentences with e.g. 2 entities appeared twice)\n",
    "sentences = list(set(sentences))\n",
    "#print(sentences)\n",
    "print(len(sentences))\n",
    "tokenized_sentences = [word_tokenize(sentence) for sentence in sentences]"
   ]
  },
  {
   "cell_type": "markdown",
   "metadata": {},
   "source": [
    "### Stemming + POS"
   ]
  },
  {
   "cell_type": "code",
   "execution_count": null,
   "metadata": {},
   "outputs": [],
   "source": [
    "# POS needs to be extracted before stemming appended afterwards\n",
    "# TODO: try which one performs better\n",
    "stemmer = EnglishStemmer()\n",
    "s = ['interaction', 'between', 'cimetidine', 'and', 'warfarin', 'could', 'be', 'dangerous']\n",
    "\n",
    "print ('original: ', s)\n",
    "print('stemmed:  ', [(stemmer.stem(w), pos_tag([w])) for w in s])\n",
    "print('Conclusion: It stemms the drug names too.')"
   ]
  },
  {
   "cell_type": "markdown",
   "metadata": {},
   "source": [
    "### Appending POS tags\n",
    "- tokens will have the form: stemmed-word_POS if argument stem=True\n",
    "- tokens will have the form: word_POS         if argument stem=False"
   ]
  },
  {
   "cell_type": "code",
   "execution_count": null,
   "metadata": {
    "collapsed": true
   },
   "outputs": [],
   "source": [
    "from nltk.corpus import stopwords\n",
    "from nltk.tokenize import word_tokenize\n",
    "\n",
    "punctuation = [\".\",\",\", \":\", \";\", \"!\", \"?\", \"(\", \")\", \"%\", \"[\",\"]\", \"-\", \"e.g.\"]\n",
    "stop_words = set(stopwords.words('english'))\n",
    "\n",
    "def isNumber(inputString):\n",
    "    try:\n",
    "        int(inputString)\n",
    "        return True\n",
    "    except ValueError:\n",
    "        return False\n",
    "\n",
    "def tokenize(sentencess, stem=True, POS=True, remove_stopwords=False, remove_punctuation=True, lower=False, remove_nums=False):\n",
    "    tokenized = [word_tokenize(sentence) for sentence in sentencess]\n",
    "    #print(tokenized)\n",
    "    if lower:\n",
    "        tokenized = [[w.lower() for w in s] for s in tokenized]\n",
    "    if remove_punctuation:\n",
    "        tokenized = [[w for w in s if w not in punctuation] for s in tokenized]\n",
    "    if remove_nums:\n",
    "        tokenized = [[w for w in s if not isNumber(w)] for s in tokenized]\n",
    "        #print(tokenized)\n",
    "    if remove_stopwords:\n",
    "        tokenized = [[w for w in s if w.lower() not in stop_words] for s in tokenized]\n",
    "        #print(tokenized)\n",
    "    if POS:\n",
    "        tokenized = pos_tag_sents(tokenized, tagset=None)\n",
    "        #print(tokenized)\n",
    "    if stem and POS:\n",
    "        tokenized = [ [stemmer.stem(w) + '_' + pos for w, pos in s ] for s in tokenized]\n",
    "    if stem and not POS:\n",
    "        tokenized = [ [stemmer.stem(w) for w in s ] for s in tokenized]\n",
    "        #filtered_sentence = [w for w in word_tokens if not w in stop_words]\n",
    "    return tokenized"
   ]
  },
  {
   "cell_type": "code",
   "execution_count": null,
   "metadata": {},
   "outputs": [],
   "source": [
    "tokenize([\"This is, my first dinner at Barcelona. Having a 7 blast!\", \"Hey you!\"], stem=False, remove_stopwords=True, lower=True, remove_nums=True)\n"
   ]
  },
  {
   "cell_type": "markdown",
   "metadata": {},
   "source": [
    "### Training word2vec with dimensions= vectorsize"
   ]
  },
  {
   "cell_type": "code",
   "execution_count": null,
   "metadata": {},
   "outputs": [],
   "source": [
    "vector_size = 20\n",
    "\n",
    "tokenized_sentences_pos = tokenize(sentences)\n",
    "print(tokenized_sentences_pos[0])\n",
    "print(len(tokenized_sentences_pos))  \n",
    "\n",
    "model = Word2Vec(tokenized_sentences_pos, size=vector_size, window=5, min_count=1, workers=cpu_count(), compute_loss=True)\n",
    "model.train(sentences, total_examples=len(sentences), epochs=10)\n",
    "print ('latest loss:', model.get_latest_training_loss())\n",
    "\n",
    "# save embeddings and delete model\n",
    "model.save(\"../word_vectors\")\n",
    "#model = Word2Vec.load('../word_vectors')\n",
    "word_vectors = model.wv\n",
    "del model"
   ]
  },
  {
   "cell_type": "code",
   "execution_count": null,
   "metadata": {},
   "outputs": [],
   "source": [
    "#print(word_vectors[\"conduction_NN\"]) \n",
    "print(word_vectors[\"conduct_NN\"]) #stemmed\n",
    "print(word_vectors['105_CD'])"
   ]
  },
  {
   "cell_type": "markdown",
   "metadata": {},
   "source": [
    "### Creating the dataset"
   ]
  },
  {
   "cell_type": "code",
   "execution_count": null,
   "metadata": {
    "collapsed": true
   },
   "outputs": [],
   "source": [
    "def load_data(df):\n",
    "    X = np.array([]).reshape(0,vector_size)\n",
    "    Y = np.array([])\n",
    "    sentences = [row['sentenceText'] for index, row in df.iterrows()]\n",
    "    sentenceIDs = [row['sentenceID'] for index, row in df.iterrows()]\n",
    "    tokenized_sentences_pos = tokenize(sentences)\n",
    "    print(len(sentences), len(sentenceIDs), len(tokenized_sentences_pos))\n",
    "    for sen, ID in (zip(tokenized_sentences_pos, sentenceIDs)):\n",
    "        #print(sen, ID)\n",
    "        labels = label_dict[ID]\n",
    "        #print(labels)\n",
    "        for word, label in zip(sen, labels):\n",
    "                word_vector = word_vectors[word]\n",
    "                #print(word, label)\n",
    "                X = np.vstack((X, word_vector))\n",
    "                Y = np.append(Y, label)\n",
    "    print(X.shape, Y.shape)\n",
    "    return X, Y"
   ]
  },
  {
   "cell_type": "code",
   "execution_count": null,
   "metadata": {
    "collapsed": true
   },
   "outputs": [],
   "source": [
    "# create X_train, Y_train\n",
    "X_train = np.array([]).reshape(0,vector_size)\n",
    "Y_train = np.array([])\n",
    "\n",
    "X_test1 = np.array([]).reshape(0,vector_size)\n",
    "Y_test1 = np.array([])\n",
    "\n",
    "X_test2 = np.array([]).reshape(0,vector_size)\n",
    "Y_test2 = np.array([])"
   ]
  },
  {
   "cell_type": "code",
   "execution_count": null,
   "metadata": {},
   "outputs": [],
   "source": [
    "#X_train, Y_train = load_data(sentences_df_train)\n",
    "X_test1, Y_test1 = load_data(sentences_df_test1)\n",
    "#X_test2, Y_test2 = load_data(sentences_df_test2)\n"
   ]
  },
  {
   "cell_type": "code",
   "execution_count": null,
   "metadata": {
    "collapsed": true
   },
   "outputs": [],
   "source": [
    "data_path = os.path.join(ROOT_DIR, 'XY')\n",
    "\n",
    "#np.save(os.path.join(data_path, 'X_train.npy'), X_train)\n",
    "np.save(os.path.join(data_path, 'X_test1.npy'), X_test1)\n",
    "#np.save(os.path.join(data_path, 'X_test2.npy'), X_test2)\n",
    "#np.save(os.path.join(data_path, 'Y_train.npy'), Y_train)\n",
    "np.save(os.path.join(data_path, 'Y_test1.npy'), Y_test1)\n",
    "#np.save(os.path.join(data_path, 'Y_test2.npy'), Y_test2)\n"
   ]
  },
  {
   "cell_type": "code",
   "execution_count": null,
   "metadata": {},
   "outputs": [],
   "source": [
    "#print (X_train.shape, Y_train.shape)\n",
    "print (X_test1.shape, Y_test1.shape)\n",
    "#print (X_test2.shape, Y_test2.shape)"
   ]
  },
  {
   "cell_type": "markdown",
   "metadata": {},
   "source": [
    "### Encode labels\n",
    "- Convert labels from B-I-O to $0, 1, 2$ for SVM\n",
    "- Convert labels from B-I-O to $[1 0 0, 0 1 0, 0 0 1]$ for ANN"
   ]
  },
  {
   "cell_type": "code",
   "execution_count": null,
   "metadata": {
    "collapsed": true
   },
   "outputs": [],
   "source": [
    "# encode class values as integers = B-I-O -> 0-1-2\n",
    "encoder = LabelEncoder()\n",
    "encoded_Y = encoder.fit_transform(Y_train)\n",
    "Y_train = encoded_Y\n",
    "\n",
    "Y_test = encoder.fit_transform(Y_test1)"
   ]
  },
  {
   "cell_type": "markdown",
   "metadata": {
    "collapsed": true
   },
   "source": [
    "### Creating the feature matrix"
   ]
  },
  {
   "cell_type": "code",
   "execution_count": null,
   "metadata": {
    "collapsed": true
   },
   "outputs": [],
   "source": [
    "def is_capitalized(word):\n",
    "    if not word:\n",
    "        return 0\n",
    "    if word[0].isupper():\n",
    "        return 0.5\n",
    "    if word.isupper():\n",
    "        return 1\n",
    "    return 0"
   ]
  },
  {
   "cell_type": "code",
   "execution_count": null,
   "metadata": {
    "collapsed": true
   },
   "outputs": [],
   "source": [
    "def has_POS_NN(word):\n",
    "    if not word:\n",
    "        return 0\n",
    "    if pos_tag([word]) == 'NN':\n",
    "        return 1\n",
    "    else:\n",
    "        return 0\n",
    "#pos_tag([\"cat\"])   "
   ]
  },
  {
   "cell_type": "code",
   "execution_count": null,
   "metadata": {
    "collapsed": true
   },
   "outputs": [],
   "source": [
    "def hasNumbers(inputString):\n",
    "    return any(char.isdigit() for char in inputString)\n",
    "\n",
    "def has_numbers(word):\n",
    "    if isNumber(word):\n",
    "        return 0\n",
    "    else:\n",
    "        if hasNumbers(word):\n",
    "            return 1\n",
    "        else:\n",
    "            return 0.5\n",
    "        \n",
    "        "
   ]
  },
  {
   "cell_type": "code",
   "execution_count": null,
   "metadata": {
    "collapsed": true
   },
   "outputs": [],
   "source": [
    "from difflib import SequenceMatcher\n",
    "\n",
    "def similar(a, b):\n",
    "    return SequenceMatcher(None, a, b).ratio()"
   ]
  },
  {
   "cell_type": "code",
   "execution_count": null,
   "metadata": {
    "collapsed": true
   },
   "outputs": [],
   "source": [
    "surrounding = ['test', 'dosage', 'concentrations', 'induce', 'inhibit', 'treatment', 'coadministration',\n",
    "               'studies', 'supplements', 'intake', 'therapy', 'doses', 'use', 'given', 'administration']\n",
    "\n",
    "def possible_pos(sentence, word_position):\n",
    "    mx = min(len(sentence) - 1, word_position + 2)\n",
    "    mn = max(0, word_position - 2)\n",
    "    return range(mn, mx+1)\n",
    "\n",
    "def is_trigger(word, sentence, word_position):\n",
    "    if not word:\n",
    "        return 0\n",
    "    for word_pos in possible_pos(sentence, word_position):\n",
    "        if np.argmax([similar(sentence[word_pos], w) for w in surrounding])> 0.7:\n",
    "            return 1\n",
    "    return 0"
   ]
  },
  {
   "cell_type": "code",
   "execution_count": null,
   "metadata": {
    "collapsed": true
   },
   "outputs": [],
   "source": [
    "    "
   ]
  },
  {
   "cell_type": "code",
   "execution_count": null,
   "metadata": {
    "collapsed": true
   },
   "outputs": [],
   "source": [
    "vowels = [\"a\", \"e\", \"i\", \"o\", \"u\"]\n",
    "def has_more_consonants(word):\n",
    "    number_of_vowels = sum(word.count(c) for c in vowels)\n",
    "    number_of_consonants = len(word) - number_of_vowels\n",
    "    if number_of_consonants > number_of_vowels:\n",
    "        return 1\n",
    "    else:\n",
    "        return 0"
   ]
  },
  {
   "cell_type": "code",
   "execution_count": null,
   "metadata": {},
   "outputs": [],
   "source": [
    "surrounding = ['test', 'dosage', 'concentrations', 'induce', 'inhibit', 'treatment', 'coadministration',\n",
    "               'studies', 'supplements', 'intake', 'therapy', 'doses', 'use', 'given', 'administration', 'indicate']\n",
    "\n",
    "words = list()\n",
    "sentenceIDs = list()\n",
    "\n",
    "def prepare_words(df):\n",
    "    sentences_train1 = [row['sentenceText'] for index, row in df.iterrows()]\n",
    "    sentenceIDs_train = [row['sentenceID'] for index, row in df.iterrows()]\n",
    "    sentences_train = tokenize(sentences_train1, POS=False, stem=False, remove_stopwords=True, remove_nums=True)\n",
    "\n",
    "    for ID, sentence in zip(sentences_train1, sentences_train):\n",
    "        for word in sentence:\n",
    "            words.append(word)\n",
    "            sentenceIDs.append(ID)\n",
    "    \n",
    "    s = {'sentence':sentenceIDs, 'word':words}\n",
    "    prep = pd.DataFrame(data=s)\n",
    "    return prep\n",
    "\n",
    "train = prepare_words(sentences_df_train)\n",
    "train.info()\n",
    "print(len(sentences_df_train))\n",
    "\n",
    "test = prepare_words(sentences_df_test1)\n",
    "test.info()"
   ]
  },
  {
   "cell_type": "code",
   "execution_count": null,
   "metadata": {},
   "outputs": [],
   "source": [
    "import itertools\n",
    "\n",
    "vector_size = 25\n",
    "\n",
    "\n",
    "X_tr = np.array([]).reshape(0,vector_size)\n",
    "for index, row in train.iterrows():\n",
    "    word = row['word']\n",
    "    sentence = word_tokenize(row['sentence'])\n",
    "    word_position = sentence.index(word)\n",
    "    print(word, word_position, sentence[word_position])\n",
    "    vector = [is_capitalized(word), is_trigger(word, sentence, word_position), has_numbers(word), has_POS_NN(word), has_more_consonants(word)] # + add embedding\n",
    "    #print(vector)similar(\"Apple\",\"Appel\")\n",
    "    sentence = tokenize([row['sentence']])\n",
    "    print(sentence, word_position)\n",
    "    if word_position >=len(sentence[0]):\n",
    "        word_position = len(sentence[0]) - 1\n",
    "    vector.extend(word_vectors[sentence[0][word_position]].tolist())\n",
    "    print(vector)\n",
    "    vector = np.array(vector)\n",
    "    #print(embed, vector)\n",
    "    #vector = list(vector + embed.T)\n",
    "    print(len(vector), X_tr.shape)\n",
    "    vector = np.array(vector).reshape(1, -1)\n",
    "    print(vector.shape, X_tr.shape)\n",
    "    X_tr = np.vstack((X_tr, vector))\n",
    "    \n",
    "print(X_tr.shape)\n",
    "    \n",
    "    "
   ]
  },
  {
   "cell_type": "code",
   "execution_count": null,
   "metadata": {},
   "outputs": [],
   "source": [
    "X_ts = np.array([]).reshape(0,vector_size)\n",
    "for index, row in test.iterrows():\n",
    "    word = row['word']\n",
    "    sentence = word_tokenize(row['sentence'])\n",
    "    word_position = sentence.index(word)\n",
    "    print(word, word_position, sentence[word_position])\n",
    "    vector = [is_capitalized(word), is_trigger(word, sentence, word_position), has_numbers(word), has_POS_NN(word), has_more_consonants(word)] # + add embedding\n",
    "    #print(vector)similar(\"Apple\",\"Appel\")\n",
    "    sentence = tokenize([row['sentence']])\n",
    "    print(sentence, word_position)\n",
    "    if word_position >=len(sentence[0]):\n",
    "        word_position = len(sentence[0]) - 1\n",
    "    vector.extend(word_vectors[sentence[0][word_position]].tolist())\n",
    "    print(vector)\n",
    "    vector = np.array(vector)\n",
    "    #print(embed, vector)\n",
    "    #vector = list(vector + embed.T)\n",
    "    print(len(vector), X_ts.shape)\n",
    "    vector = np.array(vector).reshape(1, -1)\n",
    "    print(vector.shape, X_ts.shape)\n",
    "    X_ts = np.vstack((X_ts, vector))\n",
    "    \n",
    "print(X_ts.shape)"
   ]
  },
  {
   "cell_type": "code",
   "execution_count": null,
   "metadata": {
    "collapsed": true
   },
   "outputs": [],
   "source": [
    "from sklearn import svm\n",
    "\n",
    "# one-vs-all classifier\n",
    "model = svm.SVC(kernel='rbf', \n",
    "                C=1.0,\n",
    "                class_weight=None,\n",
    "                gamma='auto',\n",
    "                #penalty='l2',\n",
    "                #loss='squared_hinge',\n",
    "                tol=0.001, random_state=None)"
   ]
  },
  {
   "cell_type": "code",
   "execution_count": null,
   "metadata": {
    "collapsed": true
   },
   "outputs": [],
   "source": [
    "model.fit(X_tr, Y_train)\n",
    "predictions = model.predict(X_ts, Y_ts)"
   ]
  },
  {
   "cell_type": "code",
   "execution_count": null,
   "metadata": {
    "collapsed": true
   },
   "outputs": [],
   "source": [
    "print(X_tr.shape, Y_train.shape)"
   ]
  },
  {
   "cell_type": "code",
   "execution_count": null,
   "metadata": {
    "collapsed": true
   },
   "outputs": [],
   "source": [
    "print(X_ts.shape, Y_test.shape)"
   ]
  },
  {
   "cell_type": "code",
   "execution_count": null,
   "metadata": {
    "collapsed": true
   },
   "outputs": [],
   "source": []
  }
 ],
 "metadata": {
  "kernelspec": {
   "display_name": "Python 3",
   "language": "python",
   "name": "python3"
  },
  "language_info": {
   "codemirror_mode": {
    "name": "ipython",
    "version": 3
   },
   "file_extension": ".py",
   "mimetype": "text/x-python",
   "name": "python",
   "nbconvert_exporter": "python",
   "pygments_lexer": "ipython3",
   "version": "3.5.2"
  }
 },
 "nbformat": 4,
 "nbformat_minor": 2
}
