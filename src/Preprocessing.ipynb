{
 "cells": [
  {
   "cell_type": "code",
   "execution_count": 2,
   "metadata": {
    "collapsed": true
   },
   "outputs": [],
   "source": [
    "# Gensim\n",
    "import gensim\n",
    "from gensim.models import Word2Vec\n",
    "\n",
    "# to make nbs importable\n",
    "import io, os, sys, types\n",
    "from IPython import get_ipython\n",
    "from nbformat import read\n",
    "from IPython.core.interactiveshell import InteractiveShell\n",
    "\n",
    "import pandas as pd\n",
    "import numpy as np\n",
    "\n",
    "from multiprocessing import cpu_count\n",
    "\n",
    "# custom\n",
    "from analize_text import get_sentenceID\n",
    "from paths import *\n",
    "\n",
    "# nltk\n",
    "import nltk\n",
    "from nltk import word_tokenize\n",
    "from nltk.stem.snowball import EnglishStemmer\n",
    "from nltk import pos_tag, pos_tag_sents\n",
    "\n"
   ]
  },
  {
   "cell_type": "markdown",
   "metadata": {},
   "source": [
    "### Reading sentences from structured data frames"
   ]
  },
  {
   "cell_type": "code",
   "execution_count": 3,
   "metadata": {},
   "outputs": [
    {
     "name": "stdout",
     "output_type": "stream",
     "text": [
      "6832 664 1299\n"
     ]
    }
   ],
   "source": [
    "# read dataframes of sentences and entities\n",
    "\n",
    "# TRAIN SET\n",
    "sentences_df_train = pd.read_csv(SENTENCE_PATH_train)\n",
    "entities_df_train = pd.read_csv(ENTITY_PATH_train)\n",
    "\n",
    "#TEST SET\n",
    "sentences_df_test1 = pd.read_csv(SENTENCE_PATH_test1)\n",
    "entities_df_test1 = pd.read_csv(ENTITY_PATH_test1)\n",
    "\n",
    "#TEST2 SET\n",
    "sentences_df_test2 = pd.read_csv(SENTENCE_PATH_test2)\n",
    "entities_df_test2 = pd.read_csv(ENTITY_PATH_test2)\n",
    "\n",
    "print(len(sentences_df_train), len(sentences_df_test1), len(sentences_df_test2))"
   ]
  },
  {
   "cell_type": "code",
   "execution_count": 4,
   "metadata": {
    "collapsed": true
   },
   "outputs": [],
   "source": [
    "# Concatenating training and test data for the word2vec training!\n",
    "sentences_df = pd.concat([sentences_df_train,\n",
    "                          sentences_df_test1,\n",
    "                          sentences_df_test2]).drop_duplicates().reset_index(drop=True)\n",
    "\n",
    "entities_df = pd.concat([entities_df_train,\n",
    "                         entities_df_test1,\n",
    "                         entities_df_test2]).drop_duplicates().reset_index(drop=True)"
   ]
  },
  {
   "cell_type": "markdown",
   "metadata": {},
   "source": [
    "### Sentences dataframe"
   ]
  },
  {
   "cell_type": "code",
   "execution_count": 5,
   "metadata": {},
   "outputs": [
    {
     "name": "stdout",
     "output_type": "stream",
     "text": [
      "Sentences dataframe\n"
     ]
    },
    {
     "data": {
      "text/html": [
       "<div>\n",
       "<style scoped>\n",
       "    .dataframe tbody tr th:only-of-type {\n",
       "        vertical-align: middle;\n",
       "    }\n",
       "\n",
       "    .dataframe tbody tr th {\n",
       "        vertical-align: top;\n",
       "    }\n",
       "\n",
       "    .dataframe thead th {\n",
       "        text-align: right;\n",
       "    }\n",
       "</style>\n",
       "<table border=\"1\" class=\"dataframe\">\n",
       "  <thead>\n",
       "    <tr style=\"text-align: right;\">\n",
       "      <th></th>\n",
       "      <th>sentenceID</th>\n",
       "      <th>sentenceText</th>\n",
       "    </tr>\n",
       "  </thead>\n",
       "  <tbody>\n",
       "    <tr>\n",
       "      <th>0</th>\n",
       "      <td>DDI-DrugBank.d157.s0</td>\n",
       "      <td>Clinical interaction studies with cimetidine a...</td>\n",
       "    </tr>\n",
       "    <tr>\n",
       "      <th>1</th>\n",
       "      <td>DDI-DrugBank.d157.s1</td>\n",
       "      <td>(See CLINICAL PHARMACOLOGY) Coadministration o...</td>\n",
       "    </tr>\n",
       "    <tr>\n",
       "      <th>2</th>\n",
       "      <td>DDI-DrugBank.d157.s2</td>\n",
       "      <td>There is no clinical experience to date on the...</td>\n",
       "    </tr>\n",
       "    <tr>\n",
       "      <th>3</th>\n",
       "      <td>DDI-DrugBank.d157.s3</td>\n",
       "      <td>Drug/Laboratory Test-Interactions None observed.</td>\n",
       "    </tr>\n",
       "    <tr>\n",
       "      <th>4</th>\n",
       "      <td>DDI-DrugBank.d110.s0</td>\n",
       "      <td>The administration of local anesthetic solutio...</td>\n",
       "    </tr>\n",
       "  </tbody>\n",
       "</table>\n",
       "</div>"
      ],
      "text/plain": [
       "             sentenceID                                       sentenceText\n",
       "0  DDI-DrugBank.d157.s0  Clinical interaction studies with cimetidine a...\n",
       "1  DDI-DrugBank.d157.s1  (See CLINICAL PHARMACOLOGY) Coadministration o...\n",
       "2  DDI-DrugBank.d157.s2  There is no clinical experience to date on the...\n",
       "3  DDI-DrugBank.d157.s3   Drug/Laboratory Test-Interactions None observed.\n",
       "4  DDI-DrugBank.d110.s0  The administration of local anesthetic solutio..."
      ]
     },
     "execution_count": 5,
     "metadata": {},
     "output_type": "execute_result"
    }
   ],
   "source": [
    "print('Sentences dataframe')\n",
    "sentences_df_train.head()\n",
    "#sentences_df_test2.info()"
   ]
  },
  {
   "cell_type": "markdown",
   "metadata": {},
   "source": [
    "### Entities dataframe"
   ]
  },
  {
   "cell_type": "code",
   "execution_count": 6,
   "metadata": {},
   "outputs": [
    {
     "name": "stdout",
     "output_type": "stream",
     "text": [
      "Entities dataframe\n"
     ]
    },
    {
     "data": {
      "text/html": [
       "<div>\n",
       "<style scoped>\n",
       "    .dataframe tbody tr th:only-of-type {\n",
       "        vertical-align: middle;\n",
       "    }\n",
       "\n",
       "    .dataframe tbody tr th {\n",
       "        vertical-align: top;\n",
       "    }\n",
       "\n",
       "    .dataframe thead th {\n",
       "        text-align: right;\n",
       "    }\n",
       "</style>\n",
       "<table border=\"1\" class=\"dataframe\">\n",
       "  <thead>\n",
       "    <tr style=\"text-align: right;\">\n",
       "      <th></th>\n",
       "      <th>entityID</th>\n",
       "      <th>name</th>\n",
       "      <th>position</th>\n",
       "      <th>type</th>\n",
       "    </tr>\n",
       "  </thead>\n",
       "  <tbody>\n",
       "    <tr>\n",
       "      <th>0</th>\n",
       "      <td>DDI-DrugBank.d157.s0.e0</td>\n",
       "      <td>cimetidine</td>\n",
       "      <td>34-43</td>\n",
       "      <td>drug</td>\n",
       "    </tr>\n",
       "    <tr>\n",
       "      <th>1</th>\n",
       "      <td>DDI-DrugBank.d157.s0.e1</td>\n",
       "      <td>warfarin</td>\n",
       "      <td>49-56</td>\n",
       "      <td>drug</td>\n",
       "    </tr>\n",
       "    <tr>\n",
       "      <th>2</th>\n",
       "      <td>DDI-DrugBank.d157.s0.e2</td>\n",
       "      <td>Femara</td>\n",
       "      <td>97-102</td>\n",
       "      <td>brand</td>\n",
       "    </tr>\n",
       "    <tr>\n",
       "      <th>3</th>\n",
       "      <td>DDI-DrugBank.d157.s1.e0</td>\n",
       "      <td>Femara</td>\n",
       "      <td>48-53</td>\n",
       "      <td>brand</td>\n",
       "    </tr>\n",
       "    <tr>\n",
       "      <th>4</th>\n",
       "      <td>DDI-DrugBank.d157.s1.e1</td>\n",
       "      <td>tamoxifen</td>\n",
       "      <td>59-67</td>\n",
       "      <td>drug</td>\n",
       "    </tr>\n",
       "  </tbody>\n",
       "</table>\n",
       "</div>"
      ],
      "text/plain": [
       "                  entityID        name position   type\n",
       "0  DDI-DrugBank.d157.s0.e0  cimetidine    34-43   drug\n",
       "1  DDI-DrugBank.d157.s0.e1    warfarin    49-56   drug\n",
       "2  DDI-DrugBank.d157.s0.e2      Femara   97-102  brand\n",
       "3  DDI-DrugBank.d157.s1.e0      Femara    48-53  brand\n",
       "4  DDI-DrugBank.d157.s1.e1   tamoxifen    59-67   drug"
      ]
     },
     "execution_count": 6,
     "metadata": {},
     "output_type": "execute_result"
    }
   ],
   "source": [
    "print('Entities dataframe')\n",
    "entities_df_train.head()\n",
    "#entities_df.info()"
   ]
  },
  {
   "cell_type": "markdown",
   "metadata": {},
   "source": [
    "### Load label dictionary {sentenceID: [ 'B', 'I', ..., 'O'] }\n"
   ]
  },
  {
   "cell_type": "code",
   "execution_count": 24,
   "metadata": {},
   "outputs": [
    {
     "name": "stdout",
     "output_type": "stream",
     "text": [
      "number of words: 192768\n"
     ]
    }
   ],
   "source": [
    "label_dict_path = os.path.join(ROOT_DIR, 'Train', 'bio_labels')\n",
    "label_dict = np.load(label_dict_path + '.npy').item()\n",
    "\n",
    "sentenceIDs = label_dict.keys()\n",
    "\n",
    "n_words = 0\n",
    "for k, v in label_dict.items():\n",
    "    n_words += len(v)\n",
    "print(\"number of words:\", n_words)"
   ]
  },
  {
   "cell_type": "markdown",
   "metadata": {},
   "source": [
    "### Tokenize sentences"
   ]
  },
  {
   "cell_type": "code",
   "execution_count": 8,
   "metadata": {},
   "outputs": [
    {
     "name": "stdout",
     "output_type": "stream",
     "text": [
      "8492\n"
     ]
    }
   ],
   "source": [
    "sentences = [row['sentenceText'] for index, row in sentences_df.iterrows()]\n",
    "# remove duplicates from sentence list (sentences with e.g. 2 entities appeared twice)\n",
    "sentences = list(set(sentences))\n",
    "#print(sentences)\n",
    "print(len(sentences))\n",
    "tokenized_sentences = [word_tokenize(sentence) for sentence in sentences]"
   ]
  },
  {
   "cell_type": "markdown",
   "metadata": {},
   "source": [
    "### Stemming + POS"
   ]
  },
  {
   "cell_type": "code",
   "execution_count": 11,
   "metadata": {},
   "outputs": [
    {
     "name": "stdout",
     "output_type": "stream",
     "text": [
      "original:  ['interaction', 'between', 'cimetidine', 'and', 'warfarin', 'could', 'be', 'dangerous']\n",
      "stemmed:   ['interact', 'between', 'cimetidin', 'and', 'warfarin', 'could', 'be', 'danger']\n",
      "Conclusion: It stemms the drug names too.\n"
     ]
    }
   ],
   "source": [
    "# POS needs to be extracted before stemming appended afterwards\n",
    "# TODO: try which one performs better\n",
    "stemmer = EnglishStemmer()\n",
    "s = ['interaction', 'between', 'cimetidine', 'and', 'warfarin', 'could', 'be', 'dangerous']\n",
    "\n",
    "print ('original: ', s)\n",
    "print('stemmed:  ', [stemmer.stem(w) for w in s])\n",
    "print('Conclusion: It stemms the drug names too.')"
   ]
  },
  {
   "cell_type": "markdown",
   "metadata": {},
   "source": [
    "### Appending POS tags\n",
    "- tokens will have the form: stemmed-word_POS if argument stem=True\n",
    "- tokens will have the form: word_POS         if argument stem=False"
   ]
  },
  {
   "cell_type": "code",
   "execution_count": 161,
   "metadata": {
    "collapsed": true
   },
   "outputs": [],
   "source": [
    "def tokenize_with_POS(sentences, pos=True, stem=True):\n",
    "    tokenized_sentences = [word_tokenize(sentence) for sentence in sentences]\n",
    "    tokenized_pos = pos_tag_sents(tokenized_sentences, tagset=None)\n",
    "    \n",
    "    if pos is False and stem is False:\n",
    "        print('original')\n",
    "        return tokenized_sentences\n",
    "    if stem and pos:\n",
    "        print('stem + pos')\n",
    "        tokenized_pos = [ [stemmer.stem(w) + '_' + pos for w, pos in s ] for s in tokenized_pos]\n",
    "    if stem and pos is False:\n",
    "        print('stem')\n",
    "        tokenized_pos = [ [stemmer.stem(w) for w in s ] for s in tokenized_sentences]\n",
    "    else:\n",
    "        print('pos')\n",
    "        tokenized_pos = [ [w + '_' + pos for w, pos in s ] for s in tokenized_pos]\n",
    "    return tokenized_pos  "
   ]
  },
  {
   "cell_type": "markdown",
   "metadata": {},
   "source": [
    "### Training word2vec with dimensions= vectorsize"
   ]
  },
  {
   "cell_type": "code",
   "execution_count": 162,
   "metadata": {},
   "outputs": [
    {
     "name": "stdout",
     "output_type": "stream",
     "text": [
      "stem\n",
      "['acut', 'effect', 'of', 'differ', 'antidepress', 'on', 'glycemia', 'in', 'diabet', 'and', 'non-diabet', 'rat', '.']\n",
      "8492\n",
      "latest loss: 0.0\n"
     ]
    }
   ],
   "source": [
    "vector_size = 20\n",
    "window = 5\n",
    "pos = False\n",
    "stem = True\n",
    "\n",
    "tokenized_sentences_pos = tokenize_with_POS(sentences, pos=pos, stem=stem)\n",
    "print(tokenized_sentences_pos[0])\n",
    "print(len(tokenized_sentences_pos))  \n",
    "\n",
    "model = Word2Vec(tokenized_sentences_pos, size=vector_size, window=window, min_count=1, workers=cpu_count(), compute_loss=True)\n",
    "model.train(sentences, total_examples=len(sentences), epochs=10)\n",
    "print ('latest loss:', model.get_latest_training_loss())\n",
    "\n",
    "# save embeddings and delete model\n",
    "model.save(\"../word_vectors_stem_20\")\n",
    "#model = Word2Vec.load('../word_vectors')\n",
    "word_vectors = model.wv\n",
    "del model"
   ]
  },
  {
   "cell_type": "code",
   "execution_count": 163,
   "metadata": {},
   "outputs": [
    {
     "name": "stdout",
     "output_type": "stream",
     "text": [
      "[-1.1643752  -2.1342478   0.67933977 -0.60886997 -0.72474104  0.30156285\n",
      " -1.3156426  -0.8812983   0.5948269  -0.5462615   1.602318   -0.8439801\n",
      "  0.7875856  -0.21448128  0.19546854  0.14384465 -0.15514095 -1.0530926\n",
      "  0.0846498   0.38285807]\n"
     ]
    }
   ],
   "source": [
    "#print(word_vectors[\"conduction_NN\"]) \n",
    "#print(word_vectors[\"conduction\"]) \n",
    "#print(word_vectors[\"conduct_NN\"]) #stemmed + pos\n",
    "print(word_vectors[\"conduct\"])\n",
    "#print(word_vectors['105_CD'])"
   ]
  },
  {
   "cell_type": "markdown",
   "metadata": {},
   "source": [
    "### Creating the dataset"
   ]
  },
  {
   "cell_type": "code",
   "execution_count": 164,
   "metadata": {
    "collapsed": true
   },
   "outputs": [],
   "source": [
    "def load_data(df, pos=True, stem=True):    \n",
    "    sentences = [row['sentenceText'] for index, row in df.iterrows()]\n",
    "    sentenceIDs = [row['sentenceID'] for index, row in df.iterrows()]\n",
    "    tokenized_sentences_pos = tokenize_with_POS(sentences, pos, stem)\n",
    "    print(len(sentences), len(sentenceIDs), len(tokenized_sentences_pos))\n",
    "    \n",
    "    # compute size of dataset \n",
    "    count = 0\n",
    "    for sen, ID in (zip(tokenized_sentences_pos, sentenceIDs)):\n",
    "        count += len(label_dict[ID])\n",
    "        \n",
    "    # allocate memory\n",
    "    X = np.empty((count, vector_size))\n",
    "    Y = np.chararray((count))\n",
    "    \n",
    "    i = 0\n",
    "    for sen, ID in (zip(tokenized_sentences_pos, sentenceIDs)):\n",
    "        #print(sen, ID)\n",
    "        labels = label_dict[ID]\n",
    "        #print(labels)\n",
    "        for word, label in zip(sen, labels):\n",
    "                word_vector = word_vectors[word]\n",
    "                #print(word, label)\n",
    "                X[i] = word_vector\n",
    "                Y[i] = label\n",
    "                i += 1\n",
    "                #X = np.vstack((X, word_vector))\n",
    "                #Y = np.append(Y, label)\n",
    "    print(X.shape, Y.shape)\n",
    "    return X, Y"
   ]
  },
  {
   "cell_type": "code",
   "execution_count": 165,
   "metadata": {},
   "outputs": [
    {
     "name": "stdout",
     "output_type": "stream",
     "text": [
      "stem\n",
      "6832 6832 6832\n",
      "(148031, 20) (148031,)\n",
      "stem\n",
      "664 664 664\n",
      "(14896, 20) (14896,)\n",
      "stem\n",
      "1299 1299 1299\n",
      "(29841, 20) (29841,)\n"
     ]
    }
   ],
   "source": [
    "X_train, Y_train = load_data(sentences_df_train, pos, stem)\n",
    "X_test1, Y_test1 = load_data(sentences_df_test1, pos, stem)\n",
    "X_test2, Y_test2 = load_data(sentences_df_test2, pos, stem)"
   ]
  },
  {
   "cell_type": "code",
   "execution_count": 166,
   "metadata": {
    "collapsed": true
   },
   "outputs": [],
   "source": [
    "data_path = os.path.join(ROOT_DIR, 'XY/STEM_20')\n",
    "\n",
    "np.save(os.path.join(data_path, 'X_train.npy'), X_train)\n",
    "np.save(os.path.join(data_path, 'X_test1.npy'), X_test1)\n",
    "np.save(os.path.join(data_path, 'X_test2.npy'), X_test2)\n",
    "np.save(os.path.join(data_path, 'Y_train.npy'), Y_train)\n",
    "np.save(os.path.join(data_path, 'Y_test1.npy'), Y_test1)\n",
    "np.save(os.path.join(data_path, 'Y_test2.npy'), Y_test2)"
   ]
  },
  {
   "cell_type": "code",
   "execution_count": 167,
   "metadata": {},
   "outputs": [
    {
     "name": "stdout",
     "output_type": "stream",
     "text": [
      "(148031, 20) (148031,)\n",
      "(14896, 20) (14896,)\n",
      "(29841, 20) (29841,)\n"
     ]
    }
   ],
   "source": [
    "print (X_train.shape, Y_train.shape)\n",
    "print (X_test1.shape, Y_test1.shape)\n",
    "print (X_test2.shape, Y_test2.shape)"
   ]
  },
  {
   "cell_type": "markdown",
   "metadata": {},
   "source": [
    "### Encode labels\n",
    "- Convert labels from B-I-O to $0, 1, 2$ for SVM\n",
    "- Convert labels from B-I-O to $[1 0 0, 0 1 0, 0 0 1]$ for ANN"
   ]
  },
  {
   "cell_type": "code",
   "execution_count": null,
   "metadata": {
    "collapsed": true
   },
   "outputs": [],
   "source": [
    "# encode class values as integers = B-I-O -> 0-1-2\n",
    "encoder = LabelEncoder()\n",
    "encoded_Y = encoder.fit_transform(Y_train)\n",
    "Y_train = encoded_Y\n",
    "# convert integers to one-hot encoding\n",
    "Y_train_one_hot = np_utils.to_categorical(encoded_Y) # SVM does not need one-hot encoding"
   ]
  },
  {
   "cell_type": "code",
   "execution_count": null,
   "metadata": {
    "collapsed": true
   },
   "outputs": [],
   "source": []
  },
  {
   "cell_type": "code",
   "execution_count": null,
   "metadata": {
    "collapsed": true
   },
   "outputs": [],
   "source": []
  }
 ],
 "metadata": {
  "kernelspec": {
   "display_name": "Python 3",
   "language": "python",
   "name": "python3"
  },
  "language_info": {
   "codemirror_mode": {
    "name": "ipython",
    "version": 3
   },
   "file_extension": ".py",
   "mimetype": "text/x-python",
   "name": "python",
   "nbconvert_exporter": "python",
   "pygments_lexer": "ipython3",
   "version": "3.5.2"
  }
 },
 "nbformat": 4,
 "nbformat_minor": 2
}
