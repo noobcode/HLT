{
 "cells": [
  {
   "cell_type": "code",
   "execution_count": null,
   "metadata": {
    "collapsed": true
   },
   "outputs": [],
   "source": [
    "# Gensim\n",
    "import gensim\n",
    "from gensim.models import Word2Vec\n",
    "\n",
    "\n",
    "# to make nbs importable\n",
    "import io, os, sys, types\n",
    "from IPython import get_ipython\n",
    "from nbformat import read\n",
    "from IPython.core.interactiveshell import InteractiveShell\n",
    "#from nbs_import import NotebookLoader\n",
    "\n",
    "import pandas as pd\n",
    "import numpy as np\n",
    "\n",
    "# custom\n",
    "from analize_text import get_sentenceID\n",
    "from paths import *\n",
    "\n",
    "\n",
    "# nltk\n",
    "import nltk\n",
    "from nltk import word_tokenize\n",
    "from nltk.stem.snowball import EnglishStemmer\n",
    "from nltk import pos_tag, pos_tag_sents\n",
    "\n",
    "from multiprocessing import cpu_count\n",
    "\n",
    "# scikit learn\n",
    "from sklearn.pipeline import FeatureUnion, Pipeline\n",
    "from sklearn.preprocessing import FunctionTransformer, LabelEncoder, MinMaxScaler, StandardScaler\n",
    "from sklearn.metrics import confusion_matrix, f1_score, precision_score, recall_score, accuracy_score\n",
    "\n",
    "# keras\n",
    "from keras.utils import np_utils\n",
    "\n",
    "from feature_transformer import *"
   ]
  },
  {
   "cell_type": "markdown",
   "metadata": {},
   "source": [
    "### Loading the dataframes"
   ]
  },
  {
   "cell_type": "code",
   "execution_count": null,
   "metadata": {
    "collapsed": true
   },
   "outputs": [],
   "source": [
    "# read dataframes of sentences and entities\n",
    "\n",
    "# TRAIN SET\n",
    "sentences_df_train = pd.read_csv(SENTENCE_PATH_train)\n",
    "entities_df_train = pd.read_csv(ENTITY_PATH_train)\n",
    "\n",
    "#TEST SET\n",
    "sentences_df_test1 = pd.read_csv(SENTENCE_PATH_test1)\n",
    "entities_df_test1 = pd.read_csv(ENTITY_PATH_test1)\n",
    "\n",
    "#TEST2 SET\n",
    "sentences_df_test2 = pd.read_csv(SENTENCE_PATH_test2)\n",
    "entities_df_test2 = pd.read_csv(ENTITY_PATH_test2)\n",
    "\n",
    "print(len(sentences_df_train), len(sentences_df_test1), len(sentences_df_test2))"
   ]
  },
  {
   "cell_type": "markdown",
   "metadata": {},
   "source": [
    "### Loading the dataset (embeddings_POS)"
   ]
  },
  {
   "cell_type": "code",
   "execution_count": null,
   "metadata": {
    "collapsed": true
   },
   "outputs": [],
   "source": [
    "data_path = os.path.join(ROOT_DIR, 'XY', 'stemPOS')\n",
    "X_test2 = np.load(os.path.join(data_path, 'X_test2.npy'))\n",
    "X_test1 = np.load(os.path.join(data_path, 'X_test1.npy'))\n",
    "X_train = np.load(os.path.join(data_path, 'X_train.npy'))\n",
    "\n",
    "Y_test2 = np.load(os.path.join(data_path, 'Y_test2.npy'))\n",
    "Y_test1 = np.load(os.path.join(data_path, 'Y_test1.npy'))\n",
    "Y_train = np.load(os.path.join(data_path, 'Y_train.npy'))\n",
    "print(X_test1.shape, Y_test1.shape)"
   ]
  },
  {
   "cell_type": "markdown",
   "metadata": {},
   "source": [
    "### Loading the embeddings"
   ]
  },
  {
   "cell_type": "code",
   "execution_count": null,
   "metadata": {
    "collapsed": true
   },
   "outputs": [],
   "source": [
    "w2vmodel = Word2Vec.load('../word_vectors')\n",
    "word_vectors = w2vmodel.wv"
   ]
  },
  {
   "cell_type": "markdown",
   "metadata": {},
   "source": [
    "### Encode labels\n",
    "- Convert labels from B-I-O to $0, 1, 2$ for SVM\n",
    "- Convert labels from B-I-O to $[1 0 0, 0 1 0, 0 0 1]$ for ANN"
   ]
  },
  {
   "cell_type": "code",
   "execution_count": null,
   "metadata": {
    "collapsed": true
   },
   "outputs": [],
   "source": [
    "# encode class values as integers = B-I-O -> 0-1-2\n",
    "encoder = LabelEncoder()\n",
    "encoded_Y = encoder.fit_transform(Y_train)\n",
    "Y_train = encoded_Y\n",
    "# convert integers to one-hot encoding\n",
    "Y_train_one_hot = np_utils.to_categorical(encoded_Y) # SVM does not need one-hot encoding"
   ]
  },
  {
   "cell_type": "markdown",
   "metadata": {},
   "source": [
    "### Data preprocessing\n",
    "experiment with:\n",
    "- original data\n",
    "- MinMaxScaler\n",
    "- Standardizer"
   ]
  },
  {
   "cell_type": "code",
   "execution_count": null,
   "metadata": {
    "collapsed": true
   },
   "outputs": [],
   "source": [
    "#min_max_scaler = MinMaxScaler()\n",
    "#X_train = min_max_scaler.fit_transform(X_train)\n",
    "\n",
    "#standard_scaler = StandardScaler()\n",
    "#X_train = standard_scaler.fit_transform(X_train)"
   ]
  },
  {
   "cell_type": "markdown",
   "metadata": {},
   "source": [
    "### Split train / validation set"
   ]
  },
  {
   "cell_type": "code",
   "execution_count": null,
   "metadata": {
    "collapsed": true
   },
   "outputs": [],
   "source": [
    "train_perc = 0.9\n",
    "train_size = int(len(X_train) * train_perc)\n",
    "\n",
    "# split train validatioin (NN)\n",
    "Y_tr_nn, Y_vl_nn = Y_train_one_hot[:train_size], Y_train_one_hot[train_size:]\n",
    "print (\"Y train/validation shapes: (ann): \", Y_tr_nn.shape, Y_vl_nn.shape)"
   ]
  },
  {
   "cell_type": "markdown",
   "metadata": {},
   "source": [
    "### Using ANN"
   ]
  },
  {
   "cell_type": "code",
   "execution_count": null,
   "metadata": {
    "collapsed": true
   },
   "outputs": [],
   "source": [
    "import keras\n",
    "from keras.models import Sequential\n",
    "from keras.layers.core import Dense, Activation, Dropout\n",
    "from sklearn import preprocessing\n",
    "from keras.optimizers import *\n",
    "from keras.initializers import *\n",
    "\n",
    "import matplotlib.pyplot as plt"
   ]
  },
  {
   "cell_type": "code",
   "execution_count": null,
   "metadata": {
    "collapsed": true
   },
   "outputs": [],
   "source": [
    "num_inputs = X_train.shape[1] # size of a vector\n",
    "num_outputs = 3 # b-i-o tags\n",
    "\n",
    "model = Sequential()\n",
    "\n",
    "model.add(Dense(units=64, input_shape=(num_inputs,), activation='relu'))\n",
    "model.add(Dropout(0.1))\n",
    "model.add(Dense(units=32, activation='relu'))\n",
    "model.add(Dropout(0.1))\n",
    "model.add(Dense(units=num_outputs, activation='softmax'))\n",
    "\n",
    "model.compile(loss='categorical_crossentropy', \n",
    "              optimizer='adam',\n",
    "              metrics=['accuracy'])\n",
    "\n",
    "model.summary()"
   ]
  },
  {
   "cell_type": "markdown",
   "metadata": {},
   "source": [
    "### Training callbacks\n",
    "- F1-score\n",
    "- Precision\n",
    "- Recall"
   ]
  },
  {
   "cell_type": "code",
   "execution_count": null,
   "metadata": {
    "collapsed": true
   },
   "outputs": [],
   "source": [
    "import numpy as np\n",
    "from keras.callbacks import Callback\n",
    "\n",
    "class Metrics(Callback):\n",
    "\n",
    "    def __init__(self, x_val, y_val):\n",
    "        self.x_val = x_val\n",
    "        self.y_val = y_val\n",
    "    \n",
    "    def on_train_begin(self, logs={}):\n",
    "        self.val_f1s_micro = []\n",
    "        self.val_recalls_micro = []\n",
    "        self.val_precisions_micro = []\n",
    "        self.val_f1s_macro = []\n",
    "        self.val_recalls_macro = []\n",
    "        self.val_precisions_macro = []\n",
    "        self.val_f1s_weighted = []\n",
    "        self.val_recalls_weighted = []\n",
    "        self.val_precisions_weighted = []\n",
    "    \n",
    "    def on_epoch_end(self, epoch, logs={}):\n",
    "        val_predict = np.argmax((np.asarray(self.model.predict(self.x_val))), axis=1)\n",
    "        val_targ = np.argmax(self.y_val, axis=1)\n",
    "        # micro\n",
    "        f1_micro = f1_score(val_targ, val_predict, average='micro')\n",
    "        recall_micro = recall_score(val_targ, val_predict, average='micro')\n",
    "        precision_micro = precision_score(val_targ, val_predict, average='micro')\n",
    "        # macro\n",
    "        f1_macro = f1_score(val_targ, val_predict, average='macro')\n",
    "        recall_macro = recall_score(val_targ, val_predict, average='macro')\n",
    "        precision_macro = precision_score(val_targ, val_predict, average='macro')\n",
    "        # weighted\n",
    "        f1_weighted = f1_score(val_targ, val_predict, average='weighted')\n",
    "        recall_weighted = recall_score(val_targ, val_predict, average='weighted')\n",
    "        precision_weighted = precision_score(val_targ, val_predict, average='weighted')\n",
    "        \n",
    "        # append metrics to access them later\n",
    "        # micro\n",
    "        self.val_f1s_micro.append(f1_micro)\n",
    "        self.val_recalls_micro.append(recall_micro)\n",
    "        self.val_precisions_micro.append(precision_micro)\n",
    "        # macro\n",
    "        self.val_f1s_macro.append(f1_macro)\n",
    "        self.val_recalls_macro.append(recall_macro)\n",
    "        self.val_precisions_macro.append(precision_macro)\n",
    "        # weighted\n",
    "        self.val_f1s_weighted.append(f1_weighted)\n",
    "        self.val_recalls_weighted.append(recall_weighted)\n",
    "        self.val_precisions_weighted.append(precision_weighted)\n",
    "        \n",
    "        print (\" — val_f1_micro: %.4f — val_precision_micro: %.4f — val_recall_micro: %.4f\" % (f1_micro, precision_micro, recall_micro))\n",
    "        print (\" — val_f1_macro: %.4f — val_precision_macro: %.4f — val_recall_macro: %.4f\" % (f1_macro, precision_macro, recall_macro))\n",
    "        print (\" — val_f1_weighted: %.4f — val_precision_weighted: %.4f — val_recall_weighted: %.4f\" % (f1_micro, precision_micro, recall_micro))\n",
    "        return\n",
    "\n",
    "    \n",
    "metrics_callback = Metrics(x_val=X_vl, y_val=Y_vl_nn)"
   ]
  },
  {
   "cell_type": "code",
   "execution_count": null,
   "metadata": {
    "collapsed": true
   },
   "outputs": [],
   "source": [
    "epochs = 50\n",
    "batch_size = 16\n",
    "\n",
    "history = model.fit(X_tr, Y_tr_nn, \n",
    "                    epochs=epochs, \n",
    "                    shuffle=True, verbose=1, \n",
    "                    batch_size=batch_size,\n",
    "                    validation_data=(X_vl, Y_vl_nn),\n",
    "                    callbacks=[metrics_callback])"
   ]
  },
  {
   "cell_type": "markdown",
   "metadata": {},
   "source": [
    "### Plot of Loss and Accuracy"
   ]
  },
  {
   "cell_type": "code",
   "execution_count": null,
   "metadata": {
    "collapsed": true
   },
   "outputs": [],
   "source": [
    "plt.plot(history.history['loss'], label='tr loss', linestyle='--', marker='o')\n",
    "plt.plot(history.history['val_loss'], label='vl loss', linestyle='-', marker='o')\n",
    "plt.xlabel('Epoch')\n",
    "plt.ylabel('Cathegorical cross-entropy')\n",
    "plt.legend(loc='best')\n",
    "\n",
    "plt.show()\n",
    "\n",
    "plt.plot(history.history['acc'], label='tr accuracy', linestyle='--', marker='o')\n",
    "plt.plot(history.history['val_acc'], label='vl accuracy', linestyle='-', marker='o')\n",
    "plt.xlabel('Epoch')\n",
    "plt.ylabel('Accuracy')\n",
    "plt.legend(loc='best')\n",
    "\n",
    "plt.show()"
   ]
  },
  {
   "cell_type": "markdown",
   "metadata": {},
   "source": [
    "### Plot of F1-score, Precision and Recall (micro)"
   ]
  },
  {
   "cell_type": "code",
   "execution_count": null,
   "metadata": {
    "collapsed": true
   },
   "outputs": [],
   "source": [
    "plt.plot(metrics_callback.val_f1s_micro, label='f1-score', marker='o', alpha=0.7)\n",
    "plt.plot(metrics_callback.val_precisions_micro, label='precision', marker='D', alpha=0.7)\n",
    "plt.plot(metrics_callback.val_recalls_micro, label='recall', marker='*', alpha=0.7)\n",
    "plt.xlabel('Epoch')\n",
    "plt.ylabel('Score')\n",
    "plt.title('Micro-averaged performance')\n",
    "plt.legend(loc='best')\n",
    "plt.show()"
   ]
  },
  {
   "cell_type": "markdown",
   "metadata": {},
   "source": [
    "### Plot of F1-score, Precision and Recall (macro)"
   ]
  },
  {
   "cell_type": "code",
   "execution_count": null,
   "metadata": {
    "collapsed": true
   },
   "outputs": [],
   "source": [
    "plt.plot(metrics_callback.val_f1s_macro, label='f1-score', marker='o', alpha=0.7)\n",
    "plt.plot(metrics_callback.val_precisions_macro, label='precision', marker='D', alpha=0.7)\n",
    "plt.plot(metrics_callback.val_recalls_macro, label='recall', marker='*', alpha=0.7)\n",
    "plt.xlabel('Epoch')\n",
    "plt.ylabel('Score')\n",
    "plt.title('Macro-averaged performance')\n",
    "plt.legend(loc='best')\n",
    "plt.show()"
   ]
  },
  {
   "cell_type": "markdown",
   "metadata": {},
   "source": [
    "### Plot of F1-score, Precision and Recall (weighted)"
   ]
  },
  {
   "cell_type": "code",
   "execution_count": null,
   "metadata": {
    "collapsed": true
   },
   "outputs": [],
   "source": [
    "plt.plot(metrics_callback.val_f1s_weighted, label='f1-score', marker='o', alpha=0.7)\n",
    "plt.plot(metrics_callback.val_precisions_weighted, label='precision', marker='D', alpha=0.7)\n",
    "plt.plot(metrics_callback.val_recalls_weighted, label='recall', marker='*', alpha=0.7)\n",
    "plt.xlabel('Epoch')\n",
    "plt.ylabel('Score')\n",
    "plt.title('Weighted-averaged performance')\n",
    "plt.legend(loc='best')\n",
    "plt.show()"
   ]
  },
  {
   "cell_type": "markdown",
   "metadata": {},
   "source": [
    "# Test\n",
    "IdSentence|startOffset-endOffset|text|null"
   ]
  },
  {
   "cell_type": "code",
   "execution_count": null,
   "metadata": {
    "collapsed": true
   },
   "outputs": [],
   "source": [
    "def token_spans(txt):\n",
    "    token_offset = []\n",
    "    tokens = nltk.word_tokenize(txt)\n",
    "    offset = 0\n",
    "    for token in tokens:\n",
    "        offset = txt.find(token, offset)\n",
    "        token_offset.append((token, offset, offset+len(token)-1))\n",
    "        offset += len(token)\n",
    "    return tokens, token_offset"
   ]
  },
  {
   "cell_type": "code",
   "execution_count": null,
   "metadata": {
    "collapsed": true
   },
   "outputs": [],
   "source": [
    "def find_end_entity_index(labels_list, current_word_index):\n",
    "    end_entity_index = current_word_index\n",
    "    for i in range(current_word_index + 1, len(labels_list)):\n",
    "        if labels_list[i] == 1: # if label == I\n",
    "            end_entity_index += 1\n",
    "            continue\n",
    "        else:\n",
    "            break\n",
    "    return end_entity_index"
   ]
  },
  {
   "cell_type": "code",
   "execution_count": null,
   "metadata": {
    "collapsed": true
   },
   "outputs": [],
   "source": [
    "output_string = ''\n",
    "vector_size = 20\n",
    "\n",
    "\n",
    "for index, row in sentences_df_test1.iterrows():\n",
    "    sentenceId = row['sentenceID']\n",
    "    sentenceText = row['sentenceText']\n",
    "    # 1. tokenize sentence\n",
    "    tok_sentence, token_offset = token_spans(sentenceText)\n",
    "    # 2. add part of speech\n",
    "    tok_sentence_pos = [ word + '_' + pos for word, pos in pos_tag(tok_sentence, tagset=None)]\n",
    "    # 3. get word vectors, predict and write output line\n",
    "    vectors_to_predict = np.array([]).reshape(0, vector_size)\n",
    "    for word in tok_sentence_pos:\n",
    "        vector = word_vectors[word]\n",
    "        vectors_to_predict = np.vstack((vectors_to_predict, vector))\n",
    "    # 4. predict\n",
    "    predictions = model.predict(vectors_to_predict)\n",
    "    predicted_labels = np.argmax(predictions, axis=1)\n",
    "    # 5. generate output\n",
    "    for i in range(len(predicted_labels)):\n",
    "        if predicted_labels[i] == 0:\n",
    "            end_entity_index = find_end_entity_index(predicted_labels, i)\n",
    "            start = token_offset[i][1]\n",
    "            end = token_offset[end_entity_index][2]\n",
    "            output_string += sentenceId + '|' + str(start) + '-' + str(end) + '|' + sentenceText[start:end+1] + '|null\\n'"
   ]
  },
  {
   "cell_type": "code",
   "execution_count": null,
   "metadata": {
    "collapsed": true
   },
   "outputs": [],
   "source": [
    "output_file_task_1 = '../results/task9.1_GROUP_1.txt'\n",
    "with open(output_file_task_1, \"w\") as out_file:\n",
    "    out_file.write(output_string)"
   ]
  },
  {
   "cell_type": "code",
   "execution_count": null,
   "metadata": {
    "collapsed": true
   },
   "outputs": [],
   "source": []
  }
 ],
 "metadata": {
  "kernelspec": {
   "display_name": "Python 3",
   "language": "python",
   "name": "python3"
  },
  "language_info": {
   "codemirror_mode": {
    "name": "ipython",
    "version": 3
   },
   "file_extension": ".py",
   "mimetype": "text/x-python",
   "name": "python",
   "nbconvert_exporter": "python",
   "pygments_lexer": "ipython3",
   "version": "3.5.2"
  }
 },
 "nbformat": 4,
 "nbformat_minor": 2
}
